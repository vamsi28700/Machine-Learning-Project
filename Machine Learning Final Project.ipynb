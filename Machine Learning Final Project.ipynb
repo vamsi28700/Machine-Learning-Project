{
 "cells": [
  {
   "cell_type": "code",
   "execution_count": 1,
   "metadata": {},
   "outputs": [],
   "source": [
    "import numpy as np\n",
    "import pandas as pd\n",
    "import matplotlib.pyplot as plt\n",
    "import seaborn as sns\n",
    "import warnings\n",
    "warnings.filterwarnings(\"ignore\")"
   ]
  },
  {
   "cell_type": "code",
   "execution_count": 2,
   "metadata": {},
   "outputs": [],
   "source": [
    "df_train=pd.read_csv(\"C:/Users/hp cc129/Desktop/Work/ML LAB/pro/data/train.csv\")"
   ]
  },
  {
   "cell_type": "code",
   "execution_count": 3,
   "metadata": {},
   "outputs": [
    {
     "data": {
      "text/html": [
       "<div>\n",
       "<style scoped>\n",
       "    .dataframe tbody tr th:only-of-type {\n",
       "        vertical-align: middle;\n",
       "    }\n",
       "\n",
       "    .dataframe tbody tr th {\n",
       "        vertical-align: top;\n",
       "    }\n",
       "\n",
       "    .dataframe thead th {\n",
       "        text-align: right;\n",
       "    }\n",
       "</style>\n",
       "<table border=\"1\" class=\"dataframe\">\n",
       "  <thead>\n",
       "    <tr style=\"text-align: right;\">\n",
       "      <th></th>\n",
       "      <th>Loan_ID</th>\n",
       "      <th>Gender</th>\n",
       "      <th>Married</th>\n",
       "      <th>Dependents</th>\n",
       "      <th>Education</th>\n",
       "      <th>Self_Employed</th>\n",
       "      <th>ApplicantIncome</th>\n",
       "      <th>CoapplicantIncome</th>\n",
       "      <th>LoanAmount</th>\n",
       "      <th>Loan_Amount_Term</th>\n",
       "      <th>Credit_History</th>\n",
       "      <th>Property_Area</th>\n",
       "      <th>Loan_Status</th>\n",
       "    </tr>\n",
       "  </thead>\n",
       "  <tbody>\n",
       "    <tr>\n",
       "      <th>0</th>\n",
       "      <td>LP001002</td>\n",
       "      <td>Male</td>\n",
       "      <td>No</td>\n",
       "      <td>0</td>\n",
       "      <td>Graduate</td>\n",
       "      <td>No</td>\n",
       "      <td>5849</td>\n",
       "      <td>0.0</td>\n",
       "      <td>NaN</td>\n",
       "      <td>360.0</td>\n",
       "      <td>1.0</td>\n",
       "      <td>Urban</td>\n",
       "      <td>Y</td>\n",
       "    </tr>\n",
       "    <tr>\n",
       "      <th>1</th>\n",
       "      <td>LP001003</td>\n",
       "      <td>Male</td>\n",
       "      <td>Yes</td>\n",
       "      <td>1</td>\n",
       "      <td>Graduate</td>\n",
       "      <td>No</td>\n",
       "      <td>4583</td>\n",
       "      <td>1508.0</td>\n",
       "      <td>128.0</td>\n",
       "      <td>360.0</td>\n",
       "      <td>1.0</td>\n",
       "      <td>Rural</td>\n",
       "      <td>N</td>\n",
       "    </tr>\n",
       "    <tr>\n",
       "      <th>2</th>\n",
       "      <td>LP001005</td>\n",
       "      <td>Male</td>\n",
       "      <td>Yes</td>\n",
       "      <td>0</td>\n",
       "      <td>Graduate</td>\n",
       "      <td>Yes</td>\n",
       "      <td>3000</td>\n",
       "      <td>0.0</td>\n",
       "      <td>66.0</td>\n",
       "      <td>360.0</td>\n",
       "      <td>1.0</td>\n",
       "      <td>Urban</td>\n",
       "      <td>Y</td>\n",
       "    </tr>\n",
       "    <tr>\n",
       "      <th>3</th>\n",
       "      <td>LP001006</td>\n",
       "      <td>Male</td>\n",
       "      <td>Yes</td>\n",
       "      <td>0</td>\n",
       "      <td>Not Graduate</td>\n",
       "      <td>No</td>\n",
       "      <td>2583</td>\n",
       "      <td>2358.0</td>\n",
       "      <td>120.0</td>\n",
       "      <td>360.0</td>\n",
       "      <td>1.0</td>\n",
       "      <td>Urban</td>\n",
       "      <td>Y</td>\n",
       "    </tr>\n",
       "    <tr>\n",
       "      <th>4</th>\n",
       "      <td>LP001008</td>\n",
       "      <td>Male</td>\n",
       "      <td>No</td>\n",
       "      <td>0</td>\n",
       "      <td>Graduate</td>\n",
       "      <td>No</td>\n",
       "      <td>6000</td>\n",
       "      <td>0.0</td>\n",
       "      <td>141.0</td>\n",
       "      <td>360.0</td>\n",
       "      <td>1.0</td>\n",
       "      <td>Urban</td>\n",
       "      <td>Y</td>\n",
       "    </tr>\n",
       "  </tbody>\n",
       "</table>\n",
       "</div>"
      ],
      "text/plain": [
       "    Loan_ID Gender Married Dependents     Education Self_Employed  \\\n",
       "0  LP001002   Male      No          0      Graduate            No   \n",
       "1  LP001003   Male     Yes          1      Graduate            No   \n",
       "2  LP001005   Male     Yes          0      Graduate           Yes   \n",
       "3  LP001006   Male     Yes          0  Not Graduate            No   \n",
       "4  LP001008   Male      No          0      Graduate            No   \n",
       "\n",
       "   ApplicantIncome  CoapplicantIncome  LoanAmount  Loan_Amount_Term  \\\n",
       "0             5849                0.0         NaN             360.0   \n",
       "1             4583             1508.0       128.0             360.0   \n",
       "2             3000                0.0        66.0             360.0   \n",
       "3             2583             2358.0       120.0             360.0   \n",
       "4             6000                0.0       141.0             360.0   \n",
       "\n",
       "   Credit_History Property_Area Loan_Status  \n",
       "0             1.0         Urban           Y  \n",
       "1             1.0         Rural           N  \n",
       "2             1.0         Urban           Y  \n",
       "3             1.0         Urban           Y  \n",
       "4             1.0         Urban           Y  "
      ]
     },
     "execution_count": 3,
     "metadata": {},
     "output_type": "execute_result"
    }
   ],
   "source": [
    "df_train.head()"
   ]
  },
  {
   "cell_type": "code",
   "execution_count": 4,
   "metadata": {},
   "outputs": [
    {
     "name": "stdout",
     "output_type": "stream",
     "text": [
      "<class 'pandas.core.frame.DataFrame'>\n",
      "RangeIndex: 614 entries, 0 to 613\n",
      "Data columns (total 13 columns):\n",
      " #   Column             Non-Null Count  Dtype  \n",
      "---  ------             --------------  -----  \n",
      " 0   Loan_ID            614 non-null    object \n",
      " 1   Gender             601 non-null    object \n",
      " 2   Married            611 non-null    object \n",
      " 3   Dependents         599 non-null    object \n",
      " 4   Education          614 non-null    object \n",
      " 5   Self_Employed      582 non-null    object \n",
      " 6   ApplicantIncome    614 non-null    int64  \n",
      " 7   CoapplicantIncome  614 non-null    float64\n",
      " 8   LoanAmount         592 non-null    float64\n",
      " 9   Loan_Amount_Term   600 non-null    float64\n",
      " 10  Credit_History     564 non-null    float64\n",
      " 11  Property_Area      614 non-null    object \n",
      " 12  Loan_Status        614 non-null    object \n",
      "dtypes: float64(4), int64(1), object(8)\n",
      "memory usage: 62.5+ KB\n"
     ]
    }
   ],
   "source": [
    "df_train.info()"
   ]
  },
  {
   "cell_type": "code",
   "execution_count": 5,
   "metadata": {},
   "outputs": [
    {
     "data": {
      "text/plain": [
       "(614, 13)"
      ]
     },
     "execution_count": 5,
     "metadata": {},
     "output_type": "execute_result"
    }
   ],
   "source": [
    "df_train.shape"
   ]
  },
  {
   "cell_type": "code",
   "execution_count": 6,
   "metadata": {},
   "outputs": [
    {
     "data": {
      "text/html": [
       "<div>\n",
       "<style scoped>\n",
       "    .dataframe tbody tr th:only-of-type {\n",
       "        vertical-align: middle;\n",
       "    }\n",
       "\n",
       "    .dataframe tbody tr th {\n",
       "        vertical-align: top;\n",
       "    }\n",
       "\n",
       "    .dataframe thead th {\n",
       "        text-align: right;\n",
       "    }\n",
       "</style>\n",
       "<table border=\"1\" class=\"dataframe\">\n",
       "  <thead>\n",
       "    <tr style=\"text-align: right;\">\n",
       "      <th></th>\n",
       "      <th>ApplicantIncome</th>\n",
       "      <th>CoapplicantIncome</th>\n",
       "      <th>LoanAmount</th>\n",
       "      <th>Loan_Amount_Term</th>\n",
       "      <th>Credit_History</th>\n",
       "    </tr>\n",
       "  </thead>\n",
       "  <tbody>\n",
       "    <tr>\n",
       "      <th>count</th>\n",
       "      <td>614.000000</td>\n",
       "      <td>614.000000</td>\n",
       "      <td>592.000000</td>\n",
       "      <td>600.00000</td>\n",
       "      <td>564.000000</td>\n",
       "    </tr>\n",
       "    <tr>\n",
       "      <th>mean</th>\n",
       "      <td>5403.459283</td>\n",
       "      <td>1621.245798</td>\n",
       "      <td>146.412162</td>\n",
       "      <td>342.00000</td>\n",
       "      <td>0.842199</td>\n",
       "    </tr>\n",
       "    <tr>\n",
       "      <th>std</th>\n",
       "      <td>6109.041673</td>\n",
       "      <td>2926.248369</td>\n",
       "      <td>85.587325</td>\n",
       "      <td>65.12041</td>\n",
       "      <td>0.364878</td>\n",
       "    </tr>\n",
       "    <tr>\n",
       "      <th>min</th>\n",
       "      <td>150.000000</td>\n",
       "      <td>0.000000</td>\n",
       "      <td>9.000000</td>\n",
       "      <td>12.00000</td>\n",
       "      <td>0.000000</td>\n",
       "    </tr>\n",
       "    <tr>\n",
       "      <th>25%</th>\n",
       "      <td>2877.500000</td>\n",
       "      <td>0.000000</td>\n",
       "      <td>100.000000</td>\n",
       "      <td>360.00000</td>\n",
       "      <td>1.000000</td>\n",
       "    </tr>\n",
       "    <tr>\n",
       "      <th>50%</th>\n",
       "      <td>3812.500000</td>\n",
       "      <td>1188.500000</td>\n",
       "      <td>128.000000</td>\n",
       "      <td>360.00000</td>\n",
       "      <td>1.000000</td>\n",
       "    </tr>\n",
       "    <tr>\n",
       "      <th>75%</th>\n",
       "      <td>5795.000000</td>\n",
       "      <td>2297.250000</td>\n",
       "      <td>168.000000</td>\n",
       "      <td>360.00000</td>\n",
       "      <td>1.000000</td>\n",
       "    </tr>\n",
       "    <tr>\n",
       "      <th>max</th>\n",
       "      <td>81000.000000</td>\n",
       "      <td>41667.000000</td>\n",
       "      <td>700.000000</td>\n",
       "      <td>480.00000</td>\n",
       "      <td>1.000000</td>\n",
       "    </tr>\n",
       "  </tbody>\n",
       "</table>\n",
       "</div>"
      ],
      "text/plain": [
       "       ApplicantIncome  CoapplicantIncome  LoanAmount  Loan_Amount_Term  \\\n",
       "count       614.000000         614.000000  592.000000         600.00000   \n",
       "mean       5403.459283        1621.245798  146.412162         342.00000   \n",
       "std        6109.041673        2926.248369   85.587325          65.12041   \n",
       "min         150.000000           0.000000    9.000000          12.00000   \n",
       "25%        2877.500000           0.000000  100.000000         360.00000   \n",
       "50%        3812.500000        1188.500000  128.000000         360.00000   \n",
       "75%        5795.000000        2297.250000  168.000000         360.00000   \n",
       "max       81000.000000       41667.000000  700.000000         480.00000   \n",
       "\n",
       "       Credit_History  \n",
       "count      564.000000  \n",
       "mean         0.842199  \n",
       "std          0.364878  \n",
       "min          0.000000  \n",
       "25%          1.000000  \n",
       "50%          1.000000  \n",
       "75%          1.000000  \n",
       "max          1.000000  "
      ]
     },
     "execution_count": 6,
     "metadata": {},
     "output_type": "execute_result"
    }
   ],
   "source": [
    "df_train.describe()"
   ]
  },
  {
   "cell_type": "code",
   "execution_count": 7,
   "metadata": {},
   "outputs": [
    {
     "data": {
      "text/plain": [
       "Loan_ID               0\n",
       "Gender               13\n",
       "Married               3\n",
       "Dependents           15\n",
       "Education             0\n",
       "Self_Employed        32\n",
       "ApplicantIncome       0\n",
       "CoapplicantIncome     0\n",
       "LoanAmount           22\n",
       "Loan_Amount_Term     14\n",
       "Credit_History       50\n",
       "Property_Area         0\n",
       "Loan_Status           0\n",
       "dtype: int64"
      ]
     },
     "execution_count": 7,
     "metadata": {},
     "output_type": "execute_result"
    }
   ],
   "source": [
    "df_train.isnull().sum()"
   ]
  },
  {
   "cell_type": "code",
   "execution_count": 8,
   "metadata": {},
   "outputs": [],
   "source": [
    "df_train['LoanAmount'] = df_train['LoanAmount'].fillna(df_train['LoanAmount'].mean())"
   ]
  },
  {
   "cell_type": "code",
   "execution_count": 9,
   "metadata": {},
   "outputs": [],
   "source": [
    "df_train['Credit_History'] = df_train['Credit_History'].fillna(df_train['Credit_History'].median())"
   ]
  },
  {
   "cell_type": "code",
   "execution_count": 10,
   "metadata": {},
   "outputs": [
    {
     "data": {
      "text/plain": [
       "Loan_ID               0\n",
       "Gender               13\n",
       "Married               3\n",
       "Dependents           15\n",
       "Education             0\n",
       "Self_Employed        32\n",
       "ApplicantIncome       0\n",
       "CoapplicantIncome     0\n",
       "LoanAmount            0\n",
       "Loan_Amount_Term     14\n",
       "Credit_History        0\n",
       "Property_Area         0\n",
       "Loan_Status           0\n",
       "dtype: int64"
      ]
     },
     "execution_count": 10,
     "metadata": {},
     "output_type": "execute_result"
    }
   ],
   "source": [
    "df_train.isnull().sum()"
   ]
  },
  {
   "cell_type": "code",
   "execution_count": 11,
   "metadata": {},
   "outputs": [],
   "source": [
    "df_train.dropna(inplace=True)"
   ]
  },
  {
   "cell_type": "code",
   "execution_count": 12,
   "metadata": {},
   "outputs": [
    {
     "data": {
      "text/plain": [
       "Loan_ID              0\n",
       "Gender               0\n",
       "Married              0\n",
       "Dependents           0\n",
       "Education            0\n",
       "Self_Employed        0\n",
       "ApplicantIncome      0\n",
       "CoapplicantIncome    0\n",
       "LoanAmount           0\n",
       "Loan_Amount_Term     0\n",
       "Credit_History       0\n",
       "Property_Area        0\n",
       "Loan_Status          0\n",
       "dtype: int64"
      ]
     },
     "execution_count": 12,
     "metadata": {},
     "output_type": "execute_result"
    }
   ],
   "source": [
    "df_train.isnull().sum()"
   ]
  },
  {
   "cell_type": "code",
   "execution_count": 13,
   "metadata": {},
   "outputs": [
    {
     "data": {
      "text/plain": [
       "(542, 13)"
      ]
     },
     "execution_count": 13,
     "metadata": {},
     "output_type": "execute_result"
    }
   ],
   "source": [
    "df_train.shape"
   ]
  },
  {
   "cell_type": "code",
   "execution_count": 14,
   "metadata": {},
   "outputs": [
    {
     "name": "stdout",
     "output_type": "stream",
     "text": [
      "Loan_Status    N    Y\n",
      "Gender               \n",
      "Female        33   65\n",
      "Male         133  311\n"
     ]
    }
   ],
   "source": [
    "print(pd.crosstab(df_train['Gender'],df_train['Loan_Status']))"
   ]
  },
  {
   "cell_type": "code",
   "execution_count": 15,
   "metadata": {},
   "outputs": [
    {
     "data": {
      "text/plain": [
       "<AxesSubplot:xlabel='Gender', ylabel='count'>"
      ]
     },
     "execution_count": 15,
     "metadata": {},
     "output_type": "execute_result"
    },
    {
     "data": {
      "image/png": "[encoded data removed]",
      "text/plain": [
       "<Figure size 432x288 with 1 Axes>"
      ]
     },
     "metadata": {
      "needs_background": "light"
     },
     "output_type": "display_data"
    }
   ],
   "source": [
    "sns.countplot(df_train['Gender'],hue=df_train['Loan_Status'])"
   ]
  },
  {
   "cell_type": "code",
   "execution_count": 16,
   "metadata": {},
   "outputs": [
    {
     "name": "stdout",
     "output_type": "stream",
     "text": [
      "Loan_Status   N    Y\n",
      "Married             \n",
      "No           70  117\n",
      "Yes          96  259\n"
     ]
    },
    {
     "data": {
      "text/plain": [
       "<AxesSubplot:xlabel='Married', ylabel='count'>"
      ]
     },
     "execution_count": 16,
     "metadata": {},
     "output_type": "execute_result"
    },
    {
     "data": {
      "image/png": "[encoded data removed]",
      "text/plain": [
       "<Figure size 432x288 with 1 Axes>"
      ]
     },
     "metadata": {
      "needs_background": "light"
     },
     "output_type": "display_data"
    }
   ],
   "source": [
    "print(pd.crosstab(df_train['Married'],df_train['Loan_Status']))\n",
    "sns.countplot(df_train['Married'],hue=df_train['Loan_Status'])"
   ]
  },
  {
   "cell_type": "code",
   "execution_count": 17,
   "metadata": {},
   "outputs": [
    {
     "name": "stdout",
     "output_type": "stream",
     "text": [
      "Loan_Status      N    Y\n",
      "Self_Employed          \n",
      "No             141  326\n",
      "Yes             25   50\n"
     ]
    },
    {
     "data": {
      "text/plain": [
       "<AxesSubplot:xlabel='Self_Employed', ylabel='count'>"
      ]
     },
     "execution_count": 17,
     "metadata": {},
     "output_type": "execute_result"
    },
    {
     "data": {
      "image/png": "[encoded data removed]",
      "text/plain": [
       "<Figure size 432x288 with 1 Axes>"
      ]
     },
     "metadata": {
      "needs_background": "light"
     },
     "output_type": "display_data"
    }
   ],
   "source": [
    "print(pd.crosstab(df_train['Self_Employed'],df_train['Loan_Status']))\n",
    "sns.countplot(df_train['Self_Employed'],hue=df_train['Loan_Status'])"
   ]
  },
  {
   "cell_type": "code",
   "execution_count": 18,
   "metadata": {},
   "outputs": [
    {
     "name": "stdout",
     "output_type": "stream",
     "text": [
      "Loan_Status     N    Y\n",
      "Property_Area         \n",
      "Rural          61   98\n",
      "Semiurban      47  162\n",
      "Urban          58  116\n"
     ]
    },
    {
     "data": {
      "text/plain": [
       "<AxesSubplot:xlabel='Property_Area', ylabel='count'>"
      ]
     },
     "execution_count": 18,
     "metadata": {},
     "output_type": "execute_result"
    },
    {
     "data": {
      "image/png": "[encoded data removed]",
      "text/plain": [
       "<Figure size 432x288 with 1 Axes>"
      ]
     },
     "metadata": {
      "needs_background": "light"
     },
     "output_type": "display_data"
    }
   ],
   "source": [
    "print(pd.crosstab(df_train['Property_Area'],df_train['Loan_Status']))\n",
    "sns.countplot(df_train['Property_Area'],hue=df_train['Loan_Status'])"
   ]
  },
  {
   "cell_type": "code",
   "execution_count": 19,
   "metadata": {},
   "outputs": [
    {
     "data": {
      "text/plain": [
       "<AxesSubplot:xlabel='count', ylabel='Loan_Amount_Term'>"
      ]
     },
     "execution_count": 19,
     "metadata": {},
     "output_type": "execute_result"
    },
    {
     "data": {
      "image/png": "[encoded data removed]",
      "text/plain": [
       "<Figure size 432x288 with 1 Axes>"
      ]
     },
     "metadata": {
      "needs_background": "light"
     },
     "output_type": "display_data"
    }
   ],
   "source": [
    "sns.countplot(y='Loan_Amount_Term',hue='Loan_Status',data=df_train)"
   ]
  },
  {
   "cell_type": "code",
   "execution_count": 20,
   "metadata": {},
   "outputs": [
    {
     "data": {
      "text/plain": [
       "<seaborn.axisgrid.FacetGrid at 0x1d16e7be148>"
      ]
     },
     "execution_count": 20,
     "metadata": {},
     "output_type": "execute_result"
    },
    {
     "data": {
      "image/png": "[encoded data removed]",
      "text/plain": [
       "<Figure size 514.88x316.8 with 4 Axes>"
      ]
     },
     "metadata": {
      "needs_background": "light"
     },
     "output_type": "display_data"
    }
   ],
   "source": [
    "grid=sns.FacetGrid(df_train,row='Gender',col='Married',size=2.2,aspect=1.6)\n",
    "grid.map(plt.hist,'ApplicantIncome',alpha=.5,bins=10)\n",
    "grid.add_legend()"
   ]
  },
  {
   "cell_type": "code",
   "execution_count": 21,
   "metadata": {},
   "outputs": [
    {
     "data": {
      "text/plain": [
       "<seaborn.axisgrid.FacetGrid at 0x1d16e9be208>"
      ]
     },
     "execution_count": 21,
     "metadata": {},
     "output_type": "execute_result"
    },
    {
     "data": {
      "image/png": "[encoded data removed]",
      "text/plain": [
       "<Figure size 514.88x316.8 with 4 Axes>"
      ]
     },
     "metadata": {
      "needs_background": "light"
     },
     "output_type": "display_data"
    }
   ],
   "source": [
    "grid=sns.FacetGrid(df_train,row='Gender',col='Education',size=2.2,aspect=1.6)\n",
    "grid.map(plt.hist,'ApplicantIncome',alpha=.5,bins=10)\n",
    "grid.add_legend()"
   ]
  },
  {
   "cell_type": "code",
   "execution_count": 22,
   "metadata": {},
   "outputs": [
    {
     "data": {
      "text/plain": [
       "<seaborn.axisgrid.FacetGrid at 0x1d16eb83ac8>"
      ]
     },
     "execution_count": 22,
     "metadata": {},
     "output_type": "execute_result"
    },
    {
     "data": {
      "image/png": "[encoded data removed]",
      "text/plain": [
       "<Figure size 514.88x316.8 with 4 Axes>"
      ]
     },
     "metadata": {
      "needs_background": "light"
     },
     "output_type": "display_data"
    }
   ],
   "source": [
    "grid=sns.FacetGrid(df_train,row='Married',col='Education',size=2.2,aspect=1.6)\n",
    "grid.map(plt.hist,'ApplicantIncome',alpha=.5,bins=10)\n",
    "grid.add_legend()"
   ]
  },
  {
   "cell_type": "code",
   "execution_count": 23,
   "metadata": {},
   "outputs": [
    {
     "data": {
      "text/plain": [
       "<seaborn.axisgrid.FacetGrid at 0x1d16eb83848>"
      ]
     },
     "execution_count": 23,
     "metadata": {},
     "output_type": "execute_result"
    },
    {
     "data": {
      "image/png": "[encoded data removed]",
      "text/plain": [
       "<Figure size 514.88x316.8 with 4 Axes>"
      ]
     },
     "metadata": {
      "needs_background": "light"
     },
     "output_type": "display_data"
    }
   ],
   "source": [
    "grid=sns.FacetGrid(df_train,row='Self_Employed',col='Education',size=2.2,aspect=1.6)\n",
    "grid.map(plt.hist,'ApplicantIncome',alpha=.5,bins=10)\n",
    "grid.add_legend()"
   ]
  },
  {
   "cell_type": "code",
   "execution_count": 24,
   "metadata": {},
   "outputs": [
    {
     "data": {
      "text/plain": [
       "<seaborn.axisgrid.FacetGrid at 0x1d16ee14508>"
      ]
     },
     "execution_count": 24,
     "metadata": {},
     "output_type": "execute_result"
    },
    {
     "data": {
      "image/png": "[encoded data removed]",
      "text/plain": [
       "<Figure size 1482.56x460.8 with 8 Axes>"
      ]
     },
     "metadata": {
      "needs_background": "light"
     },
     "output_type": "display_data"
    }
   ],
   "source": [
    "grid=sns.FacetGrid(df_train,row='Married',col='Dependents',size=3.2,aspect=1.6)\n",
    "grid.map(plt.hist,'ApplicantIncome',alpha=.5,bins=10)\n",
    "grid.add_legend()"
   ]
  },
  {
   "cell_type": "code",
   "execution_count": 25,
   "metadata": {},
   "outputs": [
    {
     "data": {
      "text/plain": [
       "<seaborn.axisgrid.FacetGrid at 0x1d16f439988>"
      ]
     },
     "execution_count": 25,
     "metadata": {},
     "output_type": "execute_result"
    },
    {
     "data": {
      "image/png": "[encoded data removed]",
      "text/plain": [
       "<Figure size 1482.56x460.8 with 8 Axes>"
      ]
     },
     "metadata": {
      "needs_background": "light"
     },
     "output_type": "display_data"
    }
   ],
   "source": [
    "grid=sns.FacetGrid(df_train,row='Self_Employed',col='Dependents',size=3.2,aspect=1.6)\n",
    "grid.map(plt.hist,'ApplicantIncome',alpha=.5,bins=10)\n",
    "grid.add_legend()"
   ]
  },
  {
   "cell_type": "code",
   "execution_count": 26,
   "metadata": {},
   "outputs": [
    {
     "data": {
      "text/plain": [
       "<seaborn.axisgrid.FacetGrid at 0x1d170f6c808>"
      ]
     },
     "execution_count": 26,
     "metadata": {},
     "output_type": "execute_result"
    },
    {
     "data": {
      "image/png": "[encoded data removed]",
      "text/plain": [
       "<Figure size 1482.56x460.8 with 8 Axes>"
      ]
     },
     "metadata": {
      "needs_background": "light"
     },
     "output_type": "display_data"
    }
   ],
   "source": [
    "grid=sns.FacetGrid(df_train,row='Gender',col='Dependents',size=3.2,aspect=1.6)\n",
    "grid.map(plt.hist,'ApplicantIncome',alpha=.5,bins=10)\n",
    "grid.add_legend()"
   ]
  },
  {
   "cell_type": "code",
   "execution_count": 27,
   "metadata": {},
   "outputs": [
    {
     "data": {
      "text/plain": [
       "<seaborn.axisgrid.FacetGrid at 0x1d1718def08>"
      ]
     },
     "execution_count": 27,
     "metadata": {},
     "output_type": "execute_result"
    },
    {
     "data": {
      "image/png": "[encoded data removed]",
      "text/plain": [
       "<Figure size 1482.56x460.8 with 8 Axes>"
      ]
     },
     "metadata": {
      "needs_background": "light"
     },
     "output_type": "display_data"
    }
   ],
   "source": [
    "grid=sns.FacetGrid(df_train,row='Education',col='Dependents',size=3.2,aspect=1.6)\n",
    "grid.map(plt.hist,'ApplicantIncome',alpha=.5,bins=10)\n",
    "grid.add_legend()"
   ]
  },
  {
   "cell_type": "code",
   "execution_count": 28,
   "metadata": {},
   "outputs": [
    {
     "data": {
      "text/plain": [
       "<seaborn.axisgrid.FacetGrid at 0x1d1725380c8>"
      ]
     },
     "execution_count": 28,
     "metadata": {},
     "output_type": "execute_result"
    },
    {
     "data": {
      "image/png": "[encoded data removed]",
      "text/plain": [
       "<Figure size 1482.56x691.2 with 12 Axes>"
      ]
     },
     "metadata": {
      "needs_background": "light"
     },
     "output_type": "display_data"
    }
   ],
   "source": [
    "grid=sns.FacetGrid(df_train,row='Property_Area',col='Dependents',size=3.2,aspect=1.6)\n",
    "grid.map(plt.hist,'ApplicantIncome',alpha=.5,bins=10)\n",
    "grid.add_legend()"
   ]
  },
  {
   "cell_type": "code",
   "execution_count": 29,
   "metadata": {},
   "outputs": [
    {
     "data": {
      "text/plain": [
       "<seaborn.axisgrid.FacetGrid at 0x1d172e19448>"
      ]
     },
     "execution_count": 29,
     "metadata": {},
     "output_type": "execute_result"
    },
    {
     "data": {
      "image/png": "[encoded data removed]",
      "text/plain": [
       "<Figure size 745.28x460.8 with 4 Axes>"
      ]
     },
     "metadata": {
      "needs_background": "light"
     },
     "output_type": "display_data"
    }
   ],
   "source": [
    "grid=sns.FacetGrid(df_train,row='Married',col='Credit_History',size=3.2,aspect=1.6)\n",
    "grid.map(plt.hist,'ApplicantIncome',alpha=.5,bins=10)\n",
    "grid.add_legend()"
   ]
  },
  {
   "cell_type": "code",
   "execution_count": 30,
   "metadata": {},
   "outputs": [
    {
     "data": {
      "text/plain": [
       "<seaborn.axisgrid.FacetGrid at 0x1d172e199c8>"
      ]
     },
     "execution_count": 30,
     "metadata": {},
     "output_type": "execute_result"
    },
    {
     "data": {
      "image/png": "[encoded data removed]",
      "text/plain": [
       "<Figure size 745.28x460.8 with 4 Axes>"
      ]
     },
     "metadata": {
      "needs_background": "light"
     },
     "output_type": "display_data"
    }
   ],
   "source": [
    "grid=sns.FacetGrid(df_train,row='Education',col='Credit_History',size=3.2,aspect=1.6)\n",
    "grid.map(plt.hist,'ApplicantIncome',alpha=.5,bins=10)\n",
    "grid.add_legend()"
   ]
  },
  {
   "cell_type": "code",
   "execution_count": 31,
   "metadata": {},
   "outputs": [],
   "source": [
    "df_train['Loan_Status'].replace('Y',1,inplace = True)\n",
    "df_train['Loan_Status'].replace('N',0,inplace = True)"
   ]
  },
  {
   "cell_type": "code",
   "execution_count": 32,
   "metadata": {},
   "outputs": [
    {
     "data": {
      "text/plain": [
       "1    376\n",
       "0    166\n",
       "Name: Loan_Status, dtype: int64"
      ]
     },
     "execution_count": 32,
     "metadata": {},
     "output_type": "execute_result"
    }
   ],
   "source": [
    "df_train['Loan_Status'].value_counts()"
   ]
  },
  {
   "cell_type": "code",
   "execution_count": 33,
   "metadata": {},
   "outputs": [
    {
     "data": {
      "text/plain": [
       "1    444\n",
       "0     98\n",
       "Name: Gender, dtype: int64"
      ]
     },
     "execution_count": 33,
     "metadata": {},
     "output_type": "execute_result"
    }
   ],
   "source": [
    "df_train.Gender=df_train.Gender.map({'Male':1,'Female':0})\n",
    "df_train['Gender'].value_counts()"
   ]
  },
  {
   "cell_type": "code",
   "execution_count": 34,
   "metadata": {},
   "outputs": [
    {
     "data": {
      "text/plain": [
       "1    355\n",
       "0    187\n",
       "Name: Married, dtype: int64"
      ]
     },
     "execution_count": 34,
     "metadata": {},
     "output_type": "execute_result"
    }
   ],
   "source": [
    "df_train.Married=df_train.Married.map({'Yes':1,'No':0})\n",
    "df_train['Married'].value_counts()"
   ]
  },
  {
   "cell_type": "code",
   "execution_count": 35,
   "metadata": {},
   "outputs": [
    {
     "data": {
      "text/plain": [
       "0    309\n",
       "2     94\n",
       "1     94\n",
       "3     45\n",
       "Name: Dependents, dtype: int64"
      ]
     },
     "execution_count": 35,
     "metadata": {},
     "output_type": "execute_result"
    }
   ],
   "source": [
    "df_train.Dependents=df_train.Dependents.map({'0':0,'1':1,'2':2,'3+':3})\n",
    "df_train['Dependents'].value_counts()"
   ]
  },
  {
   "cell_type": "code",
   "execution_count": 36,
   "metadata": {},
   "outputs": [
    {
     "data": {
      "text/plain": [
       "1    425\n",
       "0    117\n",
       "Name: Education, dtype: int64"
      ]
     },
     "execution_count": 36,
     "metadata": {},
     "output_type": "execute_result"
    }
   ],
   "source": [
    "df_train.Education=df_train.Education.map({'Graduate':1,'Not Graduate':0})\n",
    "df_train['Education'].value_counts()"
   ]
  },
  {
   "cell_type": "code",
   "execution_count": 37,
   "metadata": {},
   "outputs": [
    {
     "data": {
      "text/plain": [
       "0    467\n",
       "1     75\n",
       "Name: Self_Employed, dtype: int64"
      ]
     },
     "execution_count": 37,
     "metadata": {},
     "output_type": "execute_result"
    }
   ],
   "source": [
    "df_train.Self_Employed=df_train.Self_Employed.map({'Yes':1,'No':0})\n",
    "df_train['Self_Employed'].value_counts()"
   ]
  },
  {
   "cell_type": "code",
   "execution_count": 38,
   "metadata": {},
   "outputs": [
    {
     "data": {
      "text/plain": [
       "1    209\n",
       "2    174\n",
       "0    159\n",
       "Name: Property_Area, dtype: int64"
      ]
     },
     "execution_count": 38,
     "metadata": {},
     "output_type": "execute_result"
    }
   ],
   "source": [
    "df_train.Property_Area=df_train.Property_Area.map({'Urban':2,'Rural':0,'Semiurban':1})\n",
    "df_train['Property_Area'].value_counts()"
   ]
  },
  {
   "cell_type": "code",
   "execution_count": 39,
   "metadata": {},
   "outputs": [
    {
     "data": {
      "text/plain": [
       "146.412162    19\n",
       "120.000000    15\n",
       "100.000000    14\n",
       "110.000000    13\n",
       "187.000000    12\n",
       "              ..\n",
       "53.000000      1\n",
       "65.000000      1\n",
       "109.000000     1\n",
       "156.000000     1\n",
       "89.000000      1\n",
       "Name: LoanAmount, Length: 195, dtype: int64"
      ]
     },
     "execution_count": 39,
     "metadata": {},
     "output_type": "execute_result"
    }
   ],
   "source": [
    "df_train['LoanAmount'].value_counts()"
   ]
  },
  {
   "cell_type": "code",
   "execution_count": 40,
   "metadata": {},
   "outputs": [
    {
     "data": {
      "text/plain": [
       "360.0    464\n",
       "180.0     38\n",
       "480.0     13\n",
       "300.0     12\n",
       "84.0       4\n",
       "240.0      3\n",
       "120.0      3\n",
       "36.0       2\n",
       "60.0       2\n",
       "12.0       1\n",
       "Name: Loan_Amount_Term, dtype: int64"
      ]
     },
     "execution_count": 40,
     "metadata": {},
     "output_type": "execute_result"
    }
   ],
   "source": [
    "df_train['Loan_Amount_Term'].value_counts()"
   ]
  },
  {
   "cell_type": "code",
   "execution_count": 41,
   "metadata": {},
   "outputs": [
    {
     "data": {
      "text/plain": [
       "1.0    468\n",
       "0.0     74\n",
       "Name: Credit_History, dtype: int64"
      ]
     },
     "execution_count": 41,
     "metadata": {},
     "output_type": "execute_result"
    }
   ],
   "source": [
    "df_train['Credit_History'].value_counts()"
   ]
  },
  {
   "cell_type": "code",
   "execution_count": 42,
   "metadata": {},
   "outputs": [
    {
     "data": {
      "text/plain": [
       "Text(0.5, 1.0, 'Correlation Matrix (for Loan Status)')"
      ]
     },
     "execution_count": 42,
     "metadata": {},
     "output_type": "execute_result"
    },
    {
     "data": {
      "image/png": "[encoded data removed]",
      "text/plain": [
       "<Figure size 1152x360 with 2 Axes>"
      ]
     },
     "metadata": {
      "needs_background": "light"
     },
     "output_type": "display_data"
    }
   ],
   "source": [
    "plt.figure(figsize=(16,5))\n",
    "sns.heatmap(df_train.corr(),annot=True)\n",
    "plt.title('Correlation Matrix (for Loan Status)')"
   ]
  },
  {
   "cell_type": "code",
   "execution_count": 43,
   "metadata": {},
   "outputs": [
    {
     "data": {
      "text/html": [
       "<div>\n",
       "<style scoped>\n",
       "    .dataframe tbody tr th:only-of-type {\n",
       "        vertical-align: middle;\n",
       "    }\n",
       "\n",
       "    .dataframe tbody tr th {\n",
       "        vertical-align: top;\n",
       "    }\n",
       "\n",
       "    .dataframe thead th {\n",
       "        text-align: right;\n",
       "    }\n",
       "</style>\n",
       "<table border=\"1\" class=\"dataframe\">\n",
       "  <thead>\n",
       "    <tr style=\"text-align: right;\">\n",
       "      <th></th>\n",
       "      <th>Loan_ID</th>\n",
       "      <th>Gender</th>\n",
       "      <th>Married</th>\n",
       "      <th>Dependents</th>\n",
       "      <th>Education</th>\n",
       "      <th>Self_Employed</th>\n",
       "      <th>ApplicantIncome</th>\n",
       "      <th>CoapplicantIncome</th>\n",
       "      <th>LoanAmount</th>\n",
       "      <th>Loan_Amount_Term</th>\n",
       "      <th>Credit_History</th>\n",
       "      <th>Property_Area</th>\n",
       "      <th>Loan_Status</th>\n",
       "    </tr>\n",
       "  </thead>\n",
       "  <tbody>\n",
       "    <tr>\n",
       "      <th>0</th>\n",
       "      <td>LP001002</td>\n",
       "      <td>1</td>\n",
       "      <td>0</td>\n",
       "      <td>0</td>\n",
       "      <td>1</td>\n",
       "      <td>0</td>\n",
       "      <td>5849</td>\n",
       "      <td>0.0</td>\n",
       "      <td>146.412162</td>\n",
       "      <td>360.0</td>\n",
       "      <td>1.0</td>\n",
       "      <td>2</td>\n",
       "      <td>1</td>\n",
       "    </tr>\n",
       "    <tr>\n",
       "      <th>1</th>\n",
       "      <td>LP001003</td>\n",
       "      <td>1</td>\n",
       "      <td>1</td>\n",
       "      <td>1</td>\n",
       "      <td>1</td>\n",
       "      <td>0</td>\n",
       "      <td>4583</td>\n",
       "      <td>1508.0</td>\n",
       "      <td>128.000000</td>\n",
       "      <td>360.0</td>\n",
       "      <td>1.0</td>\n",
       "      <td>0</td>\n",
       "      <td>0</td>\n",
       "    </tr>\n",
       "    <tr>\n",
       "      <th>2</th>\n",
       "      <td>LP001005</td>\n",
       "      <td>1</td>\n",
       "      <td>1</td>\n",
       "      <td>0</td>\n",
       "      <td>1</td>\n",
       "      <td>1</td>\n",
       "      <td>3000</td>\n",
       "      <td>0.0</td>\n",
       "      <td>66.000000</td>\n",
       "      <td>360.0</td>\n",
       "      <td>1.0</td>\n",
       "      <td>2</td>\n",
       "      <td>1</td>\n",
       "    </tr>\n",
       "    <tr>\n",
       "      <th>3</th>\n",
       "      <td>LP001006</td>\n",
       "      <td>1</td>\n",
       "      <td>1</td>\n",
       "      <td>0</td>\n",
       "      <td>0</td>\n",
       "      <td>0</td>\n",
       "      <td>2583</td>\n",
       "      <td>2358.0</td>\n",
       "      <td>120.000000</td>\n",
       "      <td>360.0</td>\n",
       "      <td>1.0</td>\n",
       "      <td>2</td>\n",
       "      <td>1</td>\n",
       "    </tr>\n",
       "    <tr>\n",
       "      <th>4</th>\n",
       "      <td>LP001008</td>\n",
       "      <td>1</td>\n",
       "      <td>0</td>\n",
       "      <td>0</td>\n",
       "      <td>1</td>\n",
       "      <td>0</td>\n",
       "      <td>6000</td>\n",
       "      <td>0.0</td>\n",
       "      <td>141.000000</td>\n",
       "      <td>360.0</td>\n",
       "      <td>1.0</td>\n",
       "      <td>2</td>\n",
       "      <td>1</td>\n",
       "    </tr>\n",
       "  </tbody>\n",
       "</table>\n",
       "</div>"
      ],
      "text/plain": [
       "    Loan_ID  Gender  Married  Dependents  Education  Self_Employed  \\\n",
       "0  LP001002       1        0           0          1              0   \n",
       "1  LP001003       1        1           1          1              0   \n",
       "2  LP001005       1        1           0          1              1   \n",
       "3  LP001006       1        1           0          0              0   \n",
       "4  LP001008       1        0           0          1              0   \n",
       "\n",
       "   ApplicantIncome  CoapplicantIncome  LoanAmount  Loan_Amount_Term  \\\n",
       "0             5849                0.0  146.412162             360.0   \n",
       "1             4583             1508.0  128.000000             360.0   \n",
       "2             3000                0.0   66.000000             360.0   \n",
       "3             2583             2358.0  120.000000             360.0   \n",
       "4             6000                0.0  141.000000             360.0   \n",
       "\n",
       "   Credit_History  Property_Area  Loan_Status  \n",
       "0             1.0              2            1  \n",
       "1             1.0              0            0  \n",
       "2             1.0              2            1  \n",
       "3             1.0              2            1  \n",
       "4             1.0              2            1  "
      ]
     },
     "execution_count": 43,
     "metadata": {},
     "output_type": "execute_result"
    }
   ],
   "source": [
    "df_train.head()"
   ]
  },
  {
   "cell_type": "code",
   "execution_count": 44,
   "metadata": {},
   "outputs": [],
   "source": [
    "X = df_train.iloc[:,1:-1].values\n",
    "y = df_train.iloc[:,-1].values"
   ]
  },
  {
   "cell_type": "code",
   "execution_count": 45,
   "metadata": {},
   "outputs": [],
   "source": [
    "from sklearn.model_selection import train_test_split\n",
    "X_train, X_test, y_train, y_test = train_test_split(X, y ,test_size=0.2, random_state=0)"
   ]
  },
  {
   "cell_type": "code",
   "execution_count": 46,
   "metadata": {},
   "outputs": [],
   "source": [
    "from sklearn.preprocessing import StandardScaler\n",
    "sc = StandardScaler()\n",
    "X_train = sc.fit_transform(X_train)\n",
    "X_test = sc.transform(X_test)"
   ]
  },
  {
   "cell_type": "code",
   "execution_count": 47,
   "metadata": {},
   "outputs": [
    {
     "name": "stdout",
     "output_type": "stream",
     "text": [
      "[[ 0.4687412   0.72803526  1.20165033 ...  0.27580043  0.41646337\n",
      "  -1.32153574]\n",
      " [ 0.4687412   0.72803526  1.20165033 ...  0.27580043 -2.40117159\n",
      "   1.21043318]\n",
      " [-2.1333734   0.72803526  0.21992468 ...  0.27580043  0.41646337\n",
      "  -0.05555128]\n",
      " ...\n",
      " [ 0.4687412   0.72803526  0.21992468 ...  0.27580043  0.41646337\n",
      "  -0.05555128]\n",
      " [ 0.4687412   0.72803526  0.21992468 ... -0.65718072 -2.40117159\n",
      "  -0.05555128]\n",
      " [ 0.4687412   0.72803526 -0.76180097 ...  0.27580043  0.41646337\n",
      "  -0.05555128]]\n"
     ]
    }
   ],
   "source": [
    "print(X_train)"
   ]
  },
  {
   "cell_type": "markdown",
   "metadata": {},
   "source": [
    "# Artificial Neural Network"
   ]
  },
  {
   "cell_type": "code",
   "execution_count": 48,
   "metadata": {},
   "outputs": [
    {
     "name": "stderr",
     "output_type": "stream",
     "text": [
      "Using TensorFlow backend.\n"
     ]
    }
   ],
   "source": [
    "import keras\n",
    "ann = keras.models.Sequential()"
   ]
  },
  {
   "cell_type": "code",
   "execution_count": 49,
   "metadata": {},
   "outputs": [],
   "source": [
    "ann.add(keras.layers.Dense(units=6, activation='relu'))"
   ]
  },
  {
   "cell_type": "code",
   "execution_count": 50,
   "metadata": {},
   "outputs": [],
   "source": [
    "ann.add(keras.layers.Dense(units=6, activation='relu'))"
   ]
  },
  {
   "cell_type": "code",
   "execution_count": 51,
   "metadata": {},
   "outputs": [],
   "source": [
    "ann.add(keras.layers.Dense(units=1, activation='sigmoid'))"
   ]
  },
  {
   "cell_type": "code",
   "execution_count": 52,
   "metadata": {},
   "outputs": [],
   "source": [
    "ann.compile(optimizer='adam', loss='binary_crossentropy',metrics=['accuracy'])"
   ]
  },
  {
   "cell_type": "code",
   "execution_count": 53,
   "metadata": {},
   "outputs": [
    {
     "name": "stdout",
     "output_type": "stream",
     "text": [
      "Epoch 1/100\n",
      "433/433 [==============================] - 0s 352us/step - loss: 0.7205 - accuracy: 0.5035\n",
      "Epoch 2/100\n",
      "433/433 [==============================] - 0s 39us/step - loss: 0.6992 - accuracy: 0.5589\n",
      "Epoch 3/100\n",
      "433/433 [==============================] - 0s 46us/step - loss: 0.6816 - accuracy: 0.6212\n",
      "Epoch 4/100\n",
      "433/433 [==============================] - 0s 44us/step - loss: 0.6663 - accuracy: 0.6467\n",
      "Epoch 5/100\n",
      "433/433 [==============================] - 0s 41us/step - loss: 0.6535 - accuracy: 0.6836\n",
      "Epoch 6/100\n",
      "433/433 [==============================] - 0s 39us/step - loss: 0.6403 - accuracy: 0.7044\n",
      "Epoch 7/100\n",
      "433/433 [==============================] - 0s 44us/step - loss: 0.6289 - accuracy: 0.6975\n",
      "Epoch 8/100\n",
      "433/433 [==============================] - 0s 51us/step - loss: 0.6178 - accuracy: 0.7136\n",
      "Epoch 9/100\n",
      "433/433 [==============================] - 0s 46us/step - loss: 0.6069 - accuracy: 0.7413\n",
      "Epoch 10/100\n",
      "433/433 [==============================] - 0s 39us/step - loss: 0.5976 - accuracy: 0.7552\n",
      "Epoch 11/100\n",
      "433/433 [==============================] - 0s 48us/step - loss: 0.5888 - accuracy: 0.7714\n",
      "Epoch 12/100\n",
      "433/433 [==============================] - 0s 55us/step - loss: 0.5804 - accuracy: 0.7737\n",
      "Epoch 13/100\n",
      "433/433 [==============================] - 0s 53us/step - loss: 0.5718 - accuracy: 0.7875\n",
      "Epoch 14/100\n",
      "433/433 [==============================] - 0s 44us/step - loss: 0.5640 - accuracy: 0.7921\n",
      "Epoch 15/100\n",
      "433/433 [==============================] - 0s 46us/step - loss: 0.5563 - accuracy: 0.7898\n",
      "Epoch 16/100\n",
      "433/433 [==============================] - 0s 53us/step - loss: 0.5501 - accuracy: 0.7898\n",
      "Epoch 17/100\n",
      "433/433 [==============================] - 0s 53us/step - loss: 0.5431 - accuracy: 0.7898\n",
      "Epoch 18/100\n",
      "433/433 [==============================] - 0s 37us/step - loss: 0.5372 - accuracy: 0.7875\n",
      "Epoch 19/100\n",
      "433/433 [==============================] - 0s 46us/step - loss: 0.5317 - accuracy: 0.7898\n",
      "Epoch 20/100\n",
      "433/433 [==============================] - 0s 44us/step - loss: 0.5272 - accuracy: 0.7921\n",
      "Epoch 21/100\n",
      "433/433 [==============================] - 0s 46us/step - loss: 0.5214 - accuracy: 0.7968\n",
      "Epoch 22/100\n",
      "433/433 [==============================] - 0s 46us/step - loss: 0.5162 - accuracy: 0.7968\n",
      "Epoch 23/100\n",
      "433/433 [==============================] - 0s 46us/step - loss: 0.5117 - accuracy: 0.8037\n",
      "Epoch 24/100\n",
      "433/433 [==============================] - 0s 44us/step - loss: 0.5074 - accuracy: 0.8060\n",
      "Epoch 25/100\n",
      "433/433 [==============================] - 0s 48us/step - loss: 0.5036 - accuracy: 0.8060\n",
      "Epoch 26/100\n",
      "433/433 [==============================] - 0s 51us/step - loss: 0.5003 - accuracy: 0.8060\n",
      "Epoch 27/100\n",
      "433/433 [==============================] - 0s 46us/step - loss: 0.4968 - accuracy: 0.8060\n",
      "Epoch 28/100\n",
      "433/433 [==============================] - 0s 46us/step - loss: 0.4937 - accuracy: 0.8083\n",
      "Epoch 29/100\n",
      "433/433 [==============================] - 0s 48us/step - loss: 0.4911 - accuracy: 0.8106\n",
      "Epoch 30/100\n",
      "433/433 [==============================] - 0s 46us/step - loss: 0.4886 - accuracy: 0.8106\n",
      "Epoch 31/100\n",
      "433/433 [==============================] - 0s 46us/step - loss: 0.4861 - accuracy: 0.8106\n",
      "Epoch 32/100\n",
      "433/433 [==============================] - 0s 46us/step - loss: 0.4841 - accuracy: 0.8106\n",
      "Epoch 33/100\n",
      "433/433 [==============================] - 0s 46us/step - loss: 0.4820 - accuracy: 0.8106\n",
      "Epoch 34/100\n",
      "433/433 [==============================] - 0s 51us/step - loss: 0.4804 - accuracy: 0.8106\n",
      "Epoch 35/100\n",
      "433/433 [==============================] - 0s 53us/step - loss: 0.4787 - accuracy: 0.8106\n",
      "Epoch 36/100\n",
      "433/433 [==============================] - 0s 48us/step - loss: 0.4768 - accuracy: 0.8106\n",
      "Epoch 37/100\n",
      "433/433 [==============================] - 0s 44us/step - loss: 0.4751 - accuracy: 0.8106\n",
      "Epoch 38/100\n",
      "433/433 [==============================] - 0s 44us/step - loss: 0.4740 - accuracy: 0.8106\n",
      "Epoch 39/100\n",
      "433/433 [==============================] - 0s 46us/step - loss: 0.4728 - accuracy: 0.8106\n",
      "Epoch 40/100\n",
      "433/433 [==============================] - 0s 46us/step - loss: 0.4715 - accuracy: 0.8129\n",
      "Epoch 41/100\n",
      "433/433 [==============================] - 0s 37us/step - loss: 0.4701 - accuracy: 0.8129\n",
      "Epoch 42/100\n",
      "433/433 [==============================] - 0s 44us/step - loss: 0.4693 - accuracy: 0.8129\n",
      "Epoch 43/100\n",
      "433/433 [==============================] - 0s 53us/step - loss: 0.4679 - accuracy: 0.8129\n",
      "Epoch 44/100\n",
      "433/433 [==============================] - 0s 39us/step - loss: 0.4672 - accuracy: 0.8129\n",
      "Epoch 45/100\n",
      "433/433 [==============================] - 0s 48us/step - loss: 0.4664 - accuracy: 0.8129\n",
      "Epoch 46/100\n",
      "433/433 [==============================] - 0s 37us/step - loss: 0.4654 - accuracy: 0.8129\n",
      "Epoch 47/100\n",
      "433/433 [==============================] - 0s 37us/step - loss: 0.4648 - accuracy: 0.8129\n",
      "Epoch 48/100\n",
      "433/433 [==============================] - 0s 37us/step - loss: 0.4642 - accuracy: 0.8129\n",
      "Epoch 49/100\n",
      "433/433 [==============================] - 0s 37us/step - loss: 0.4633 - accuracy: 0.8129\n",
      "Epoch 50/100\n",
      "433/433 [==============================] - 0s 32us/step - loss: 0.4625 - accuracy: 0.8129\n",
      "Epoch 51/100\n",
      "433/433 [==============================] - 0s 32us/step - loss: 0.4622 - accuracy: 0.8129\n",
      "Epoch 52/100\n",
      "433/433 [==============================] - 0s 37us/step - loss: 0.4616 - accuracy: 0.8129\n",
      "Epoch 53/100\n",
      "433/433 [==============================] - 0s 48us/step - loss: 0.4609 - accuracy: 0.8129\n",
      "Epoch 54/100\n",
      "433/433 [==============================] - 0s 55us/step - loss: 0.4603 - accuracy: 0.8152\n",
      "Epoch 55/100\n",
      "433/433 [==============================] - 0s 53us/step - loss: 0.4596 - accuracy: 0.8129\n",
      "Epoch 56/100\n",
      "433/433 [==============================] - 0s 46us/step - loss: 0.4592 - accuracy: 0.8152\n",
      "Epoch 57/100\n",
      "433/433 [==============================] - 0s 41us/step - loss: 0.4586 - accuracy: 0.8129\n",
      "Epoch 58/100\n",
      "433/433 [==============================] - 0s 64us/step - loss: 0.4581 - accuracy: 0.8129\n",
      "Epoch 59/100\n",
      "433/433 [==============================] - 0s 51us/step - loss: 0.4579 - accuracy: 0.8129\n",
      "Epoch 60/100\n",
      "433/433 [==============================] - 0s 44us/step - loss: 0.4572 - accuracy: 0.8152\n",
      "Epoch 61/100\n",
      "433/433 [==============================] - 0s 30us/step - loss: 0.4566 - accuracy: 0.8129\n",
      "Epoch 62/100\n",
      "433/433 [==============================] - 0s 32us/step - loss: 0.4556 - accuracy: 0.8152\n",
      "Epoch 63/100\n",
      "433/433 [==============================] - 0s 30us/step - loss: 0.4554 - accuracy: 0.8129\n",
      "Epoch 64/100\n",
      "433/433 [==============================] - 0s 35us/step - loss: 0.4548 - accuracy: 0.8152\n",
      "Epoch 65/100\n",
      "433/433 [==============================] - 0s 41us/step - loss: 0.4542 - accuracy: 0.8152\n",
      "Epoch 66/100\n",
      "433/433 [==============================] - 0s 46us/step - loss: 0.4540 - accuracy: 0.8176\n",
      "Epoch 67/100\n",
      "433/433 [==============================] - 0s 35us/step - loss: 0.4535 - accuracy: 0.8176\n",
      "Epoch 68/100\n",
      "433/433 [==============================] - 0s 41us/step - loss: 0.4535 - accuracy: 0.8176\n",
      "Epoch 69/100\n",
      "433/433 [==============================] - 0s 35us/step - loss: 0.4525 - accuracy: 0.8152\n",
      "Epoch 70/100\n",
      "433/433 [==============================] - 0s 37us/step - loss: 0.4525 - accuracy: 0.8176\n",
      "Epoch 71/100\n",
      "433/433 [==============================] - 0s 41us/step - loss: 0.4518 - accuracy: 0.8176\n",
      "Epoch 72/100\n",
      "433/433 [==============================] - 0s 35us/step - loss: 0.4519 - accuracy: 0.8176\n",
      "Epoch 73/100\n",
      "433/433 [==============================] - 0s 37us/step - loss: 0.4512 - accuracy: 0.8176\n",
      "Epoch 74/100\n",
      "433/433 [==============================] - 0s 39us/step - loss: 0.4508 - accuracy: 0.8152\n",
      "Epoch 75/100\n",
      "433/433 [==============================] - 0s 32us/step - loss: 0.4502 - accuracy: 0.8152\n",
      "Epoch 76/100\n",
      "433/433 [==============================] - 0s 32us/step - loss: 0.4499 - accuracy: 0.8176\n",
      "Epoch 77/100\n",
      "433/433 [==============================] - 0s 32us/step - loss: 0.4493 - accuracy: 0.8176\n",
      "Epoch 78/100\n",
      "433/433 [==============================] - 0s 30us/step - loss: 0.4493 - accuracy: 0.8176\n",
      "Epoch 79/100\n",
      "433/433 [==============================] - 0s 30us/step - loss: 0.4485 - accuracy: 0.8199\n",
      "Epoch 80/100\n"
     ]
    },
    {
     "name": "stdout",
     "output_type": "stream",
     "text": [
      "433/433 [==============================] - 0s 30us/step - loss: 0.4483 - accuracy: 0.8199\n",
      "Epoch 81/100\n",
      "433/433 [==============================] - 0s 30us/step - loss: 0.4480 - accuracy: 0.8199\n",
      "Epoch 82/100\n",
      "433/433 [==============================] - 0s 30us/step - loss: 0.4476 - accuracy: 0.8199\n",
      "Epoch 83/100\n",
      "433/433 [==============================] - ETA: 0s - loss: 0.2723 - accuracy: 0.93 - 0s 31us/step - loss: 0.4471 - accuracy: 0.8199\n",
      "Epoch 84/100\n",
      "433/433 [==============================] - 0s 31us/step - loss: 0.4470 - accuracy: 0.8199\n",
      "Epoch 85/100\n",
      "433/433 [==============================] - 0s 32us/step - loss: 0.4466 - accuracy: 0.8199\n",
      "Epoch 86/100\n",
      "433/433 [==============================] - 0s 30us/step - loss: 0.4464 - accuracy: 0.8222\n",
      "Epoch 87/100\n",
      "433/433 [==============================] - 0s 35us/step - loss: 0.4458 - accuracy: 0.8222\n",
      "Epoch 88/100\n",
      "433/433 [==============================] - 0s 44us/step - loss: 0.4452 - accuracy: 0.8222\n",
      "Epoch 89/100\n",
      "433/433 [==============================] - 0s 38us/step - loss: 0.4447 - accuracy: 0.8222\n",
      "Epoch 90/100\n",
      "433/433 [==============================] - 0s 32us/step - loss: 0.4444 - accuracy: 0.8222\n",
      "Epoch 91/100\n",
      "433/433 [==============================] - 0s 32us/step - loss: 0.4439 - accuracy: 0.8222\n",
      "Epoch 92/100\n",
      "433/433 [==============================] - 0s 33us/step - loss: 0.4439 - accuracy: 0.8199\n",
      "Epoch 93/100\n",
      "433/433 [==============================] - 0s 33us/step - loss: 0.4430 - accuracy: 0.8222\n",
      "Epoch 94/100\n",
      "433/433 [==============================] - 0s 31us/step - loss: 0.4426 - accuracy: 0.8199\n",
      "Epoch 95/100\n",
      "433/433 [==============================] - 0s 32us/step - loss: 0.4419 - accuracy: 0.8222\n",
      "Epoch 96/100\n",
      "433/433 [==============================] - 0s 32us/step - loss: 0.4412 - accuracy: 0.8199\n",
      "Epoch 97/100\n",
      "433/433 [==============================] - 0s 32us/step - loss: 0.4407 - accuracy: 0.8199\n",
      "Epoch 98/100\n",
      "433/433 [==============================] - 0s 31us/step - loss: 0.4397 - accuracy: 0.8222\n",
      "Epoch 99/100\n",
      "433/433 [==============================] - 0s 32us/step - loss: 0.4394 - accuracy: 0.8199\n",
      "Epoch 100/100\n",
      "433/433 [==============================] - 0s 30us/step - loss: 0.4388 - accuracy: 0.8199\n"
     ]
    },
    {
     "data": {
      "text/plain": [
       "<keras.callbacks.callbacks.History at 0x1d17b319f08>"
      ]
     },
     "execution_count": 53,
     "metadata": {},
     "output_type": "execute_result"
    }
   ],
   "source": [
    "ann.fit(X_train, y_train, batch_size =32, epochs =100)"
   ]
  },
  {
   "cell_type": "code",
   "execution_count": 54,
   "metadata": {},
   "outputs": [
    {
     "name": "stdout",
     "output_type": "stream",
     "text": [
      "[[1 1]\n",
      " [1 1]\n",
      " [1 1]\n",
      " [1 0]\n",
      " [1 1]\n",
      " [1 1]\n",
      " [0 0]\n",
      " [1 1]\n",
      " [0 0]\n",
      " [1 1]\n",
      " [1 1]\n",
      " [1 1]\n",
      " [0 0]\n",
      " [0 0]\n",
      " [1 1]\n",
      " [1 0]\n",
      " [0 0]\n",
      " [1 1]\n",
      " [1 1]\n",
      " [0 0]\n",
      " [1 1]\n",
      " [1 1]\n",
      " [1 1]\n",
      " [1 0]\n",
      " [0 1]\n",
      " [1 1]\n",
      " [1 1]\n",
      " [1 1]\n",
      " [1 1]\n",
      " [1 1]\n",
      " [1 1]\n",
      " [1 1]\n",
      " [1 1]\n",
      " [0 0]\n",
      " [1 0]\n",
      " [1 1]\n",
      " [1 0]\n",
      " [1 1]\n",
      " [0 0]\n",
      " [1 1]\n",
      " [1 1]\n",
      " [1 0]\n",
      " [0 0]\n",
      " [1 1]\n",
      " [1 1]\n",
      " [1 1]\n",
      " [1 1]\n",
      " [1 1]\n",
      " [1 0]\n",
      " [1 0]\n",
      " [1 0]\n",
      " [1 1]\n",
      " [1 1]\n",
      " [1 1]\n",
      " [1 0]\n",
      " [1 1]\n",
      " [1 1]\n",
      " [1 1]\n",
      " [1 1]\n",
      " [1 1]\n",
      " [1 1]\n",
      " [1 0]\n",
      " [1 1]\n",
      " [0 1]\n",
      " [0 1]\n",
      " [1 1]\n",
      " [1 1]\n",
      " [1 1]\n",
      " [1 1]\n",
      " [1 1]\n",
      " [1 1]\n",
      " [1 1]\n",
      " [1 1]\n",
      " [1 0]\n",
      " [1 0]\n",
      " [1 1]\n",
      " [1 1]\n",
      " [1 1]\n",
      " [1 1]\n",
      " [1 0]\n",
      " [1 1]\n",
      " [1 1]\n",
      " [1 0]\n",
      " [0 0]\n",
      " [1 1]\n",
      " [1 1]\n",
      " [1 1]\n",
      " [0 0]\n",
      " [1 0]\n",
      " [1 1]\n",
      " [1 0]\n",
      " [1 0]\n",
      " [1 0]\n",
      " [1 1]\n",
      " [1 1]\n",
      " [1 1]\n",
      " [1 1]\n",
      " [1 1]\n",
      " [1 1]\n",
      " [1 1]\n",
      " [1 1]\n",
      " [0 0]\n",
      " [1 1]\n",
      " [1 1]\n",
      " [1 1]\n",
      " [1 1]\n",
      " [1 1]\n",
      " [1 1]\n",
      " [1 1]]\n"
     ]
    }
   ],
   "source": [
    "y_pred = ann.predict(X_test)\n",
    "y_pred = (y_pred > 0.5)\n",
    "print(np.concatenate((y_pred.reshape(len(y_pred),1),y_test.reshape(len(y_test),1)),1))"
   ]
  },
  {
   "cell_type": "code",
   "execution_count": 55,
   "metadata": {},
   "outputs": [
    {
     "name": "stdout",
     "output_type": "stream",
     "text": [
      "[[12 19]\n",
      " [ 3 75]]\n"
     ]
    },
    {
     "data": {
      "text/plain": [
       "0.7981651376146789"
      ]
     },
     "execution_count": 55,
     "metadata": {},
     "output_type": "execute_result"
    }
   ],
   "source": [
    "from sklearn.metrics import confusion_matrix, accuracy_score\n",
    "cm = confusion_matrix(y_test, y_pred)\n",
    "print(cm)\n",
    "accuracy_score(y_test, y_pred)"
   ]
  },
  {
   "cell_type": "code",
   "execution_count": 56,
   "metadata": {},
   "outputs": [
    {
     "name": "stdout",
     "output_type": "stream",
     "text": [
      "Model: \"sequential_1\"\n",
      "_________________________________________________________________\n",
      "Layer (type)                 Output Shape              Param #   \n",
      "=================================================================\n",
      "dense_1 (Dense)              (None, 6)                 72        \n",
      "_________________________________________________________________\n",
      "dense_2 (Dense)              (None, 6)                 42        \n",
      "_________________________________________________________________\n",
      "dense_3 (Dense)              (None, 1)                 7         \n",
      "=================================================================\n",
      "Total params: 121\n",
      "Trainable params: 121\n",
      "Non-trainable params: 0\n",
      "_________________________________________________________________\n"
     ]
    }
   ],
   "source": [
    "ann.summary()"
   ]
  },
  {
   "cell_type": "code",
   "execution_count": 57,
   "metadata": {},
   "outputs": [
    {
     "data": {
      "image/png": "[encoded data removed]",
      "text/plain": [
       "<IPython.core.display.Image object>"
      ]
     },
     "execution_count": 57,
     "metadata": {},
     "output_type": "execute_result"
    }
   ],
   "source": [
    "from keras.utils.vis_utils import plot_model\n",
    "plot_model(ann, to_file='ann.png')"
   ]
  },
  {
   "cell_type": "code",
   "execution_count": 58,
   "metadata": {},
   "outputs": [],
   "source": [
    "from ann_visualizer.visualize import ann_viz;\n",
    "ann_viz(ann, title=\"Artificial Neural Network\")"
   ]
  },
  {
   "cell_type": "markdown",
   "metadata": {},
   "source": [
    "# Logistic Regression,Decision Tree,KNN Classifiers,AdaBostClassifiers,Naive Bayes Classifiers etc"
   ]
  },
  {
   "cell_type": "code",
   "execution_count": 59,
   "metadata": {},
   "outputs": [],
   "source": [
    "from sklearn.linear_model import LogisticRegression , RidgeClassifier\n",
    "from sklearn.discriminant_analysis import LinearDiscriminantAnalysis\n",
    "from sklearn.model_selection import RepeatedStratifiedKFold\n",
    "from sklearn.neighbors import KNeighborsClassifier\n",
    "from sklearn.model_selection import GridSearchCV\n",
    "from sklearn.tree import DecisionTreeClassifier \n",
    "from sklearn.naive_bayes import GaussianNB\n",
    "from xgboost import plot_importance\n",
    "from xgboost import XGBClassifier\n",
    "from sklearn.svm import SVC\n",
    "from sklearn.ensemble import AdaBoostClassifier\n",
    "from sklearn.ensemble import GradientBoostingClassifier\n",
    "from sklearn.ensemble import VotingClassifier\n",
    "from sklearn.ensemble import RandomForestClassifier\n",
    "from sklearn.metrics import classification_report"
   ]
  },
  {
   "cell_type": "markdown",
   "metadata": {},
   "source": [
    "# All Features"
   ]
  },
  {
   "cell_type": "code",
   "execution_count": 60,
   "metadata": {},
   "outputs": [
    {
     "name": "stdout",
     "output_type": "stream",
     "text": [
      "              precision    recall  f1-score   support\n",
      "\n",
      "           0       0.42      0.76      0.54        17\n",
      "           1       0.95      0.80      0.87        92\n",
      "\n",
      "    accuracy                           0.80       109\n",
      "   macro avg       0.68      0.78      0.71       109\n",
      "weighted avg       0.87      0.80      0.82       109\n",
      "\n",
      "Voting Ensemble:> 0.7981651376146789\n",
      "              precision    recall  f1-score   support\n",
      "\n",
      "           0       0.32      1.00      0.49        10\n",
      "           1       1.00      0.79      0.88        99\n",
      "\n",
      "    accuracy                           0.81       109\n",
      "   macro avg       0.66      0.89      0.68       109\n",
      "weighted avg       0.94      0.81      0.85       109\n",
      "\n",
      "SVM:> 0.8073394495412844\n",
      "              precision    recall  f1-score   support\n",
      "\n",
      "           0       0.32      0.42      0.36        24\n",
      "           1       0.82      0.75      0.79        85\n",
      "\n",
      "    accuracy                           0.68       109\n",
      "   macro avg       0.57      0.58      0.57       109\n",
      "weighted avg       0.71      0.68      0.69       109\n",
      "\n",
      "XGBoost:> 0.6788990825688074\n",
      "              precision    recall  f1-score   support\n",
      "\n",
      "           0       0.39      0.71      0.50        17\n",
      "           1       0.94      0.79      0.86        92\n",
      "\n",
      "    accuracy                           0.78       109\n",
      "   macro avg       0.66      0.75      0.68       109\n",
      "weighted avg       0.85      0.78      0.80       109\n",
      "\n",
      "RandomForestClassifier:> 0.7798165137614679\n",
      "              precision    recall  f1-score   support\n",
      "\n",
      "           0       0.39      0.71      0.50        17\n",
      "           1       0.94      0.79      0.86        92\n",
      "\n",
      "    accuracy                           0.78       109\n",
      "   macro avg       0.66      0.75      0.68       109\n",
      "weighted avg       0.85      0.78      0.80       109\n",
      "\n",
      "GradientBoostingClassifier:> 0.7798165137614679\n",
      "              precision    recall  f1-score   support\n",
      "\n",
      "           0       0.32      1.00      0.49        10\n",
      "           1       1.00      0.79      0.88        99\n",
      "\n",
      "    accuracy                           0.81       109\n",
      "   macro avg       0.66      0.89      0.68       109\n",
      "weighted avg       0.94      0.81      0.85       109\n",
      "\n",
      "DecisionTreeClassifier:> 0.8073394495412844\n",
      "              precision    recall  f1-score   support\n",
      "\n",
      "           0       0.42      0.68      0.52        19\n",
      "           1       0.92      0.80      0.86        90\n",
      "\n",
      "    accuracy                           0.78       109\n",
      "   macro avg       0.67      0.74      0.69       109\n",
      "weighted avg       0.84      0.78      0.80       109\n",
      "\n",
      "AdaBoostClassifier:> 0.7798165137614679\n",
      "              precision    recall  f1-score   support\n",
      "\n",
      "           0       0.32      1.00      0.49        10\n",
      "           1       1.00      0.79      0.88        99\n",
      "\n",
      "    accuracy                           0.81       109\n",
      "   macro avg       0.66      0.89      0.68       109\n",
      "weighted avg       0.94      0.81      0.85       109\n",
      "\n",
      "LinearDiscriminantAnalysis:> 0.8073394495412844 \n",
      "\n",
      "              precision    recall  f1-score   support\n",
      "\n",
      "           0       0.32      1.00      0.49        10\n",
      "           1       1.00      0.79      0.88        99\n",
      "\n",
      "    accuracy                           0.81       109\n",
      "   macro avg       0.66      0.89      0.68       109\n",
      "weighted avg       0.94      0.81      0.85       109\n",
      "\n",
      "KNeighborsClassifier:> 0.8073394495412844\n",
      "              precision    recall  f1-score   support\n",
      "\n",
      "           0       0.39      0.86      0.53        14\n",
      "           1       0.97      0.80      0.88        95\n",
      "\n",
      "    accuracy                           0.81       109\n",
      "   macro avg       0.68      0.83      0.71       109\n",
      "weighted avg       0.90      0.81      0.83       109\n",
      "\n",
      "GaussianNB:> 0.8073394495412844\n",
      "              precision    recall  f1-score   support\n",
      "\n",
      "           0       0.32      1.00      0.49        10\n",
      "           1       1.00      0.79      0.88        99\n",
      "\n",
      "    accuracy                           0.81       109\n",
      "   macro avg       0.66      0.89      0.68       109\n",
      "weighted avg       0.94      0.81      0.85       109\n",
      "\n",
      "Logistic Regression:> 0.8073394495412844\n"
     ]
    }
   ],
   "source": [
    "#Voting ensemble mathod. Combining all tree based algorithms.\n",
    "models = []\n",
    "models.append((\"XGB\",XGBClassifier()))\n",
    "models.append((\"RF\",RandomForestClassifier()))\n",
    "models.append((\"DT\",DecisionTreeClassifier()))\n",
    "models.append((\"ADB\",AdaBoostClassifier()))\n",
    "models.append((\"GB\",GradientBoostingClassifier()))\n",
    "\n",
    "ensemble = VotingClassifier(estimators=models)\n",
    "ensemble.fit(X_train,y_train)\n",
    "y_pred = ensemble.predict(X_test) \n",
    "print(classification_report(y_pred,y_test))\n",
    "print(\"Voting Ensemble:>\",accuracy_score(y_pred,y_test))\n",
    "\n",
    "\n",
    "\n",
    "SVM = SVC(kernel=\"linear\",class_weight=\"balanced\",probability=True)\n",
    "SVM.fit(X_train,y_train)\n",
    "y_pred = SVM.predict(X_test)\n",
    "print(classification_report(y_pred,y_test))\n",
    "print(\"SVM:>\",accuracy_score(y_pred,y_test))\n",
    "\n",
    "\n",
    "XGBC = XGBClassifier(learning_rate =0.1,n_estimators=10000,max_depth=4,min_child_weight=6,gamma=0,subsample=0.6,colsample_bytree=0.8,\n",
    " reg_alpha=0.005, objective= 'binary:logistic', nthread=2, scale_pos_weight=1, seed=27)\n",
    "XGBC.fit(X_train,y_train)\n",
    "y_pred = XGBC.predict(X_test)\n",
    "print(classification_report(y_pred,y_test))\n",
    "print(\"XGBoost:>\",accuracy_score(y_pred,y_test))\n",
    "\n",
    "Model1 = RandomForestClassifier(n_estimators=1000,random_state=0,n_jobs=1000,max_depth=70,bootstrap=True)\n",
    "Model1.fit(X_train,y_train)\n",
    "y_pred = Model1.predict(X_test)\n",
    "print(classification_report(y_pred,y_test))\n",
    "print(\"RandomForestClassifier:>\",accuracy_score(y_pred,y_test))\n",
    "\n",
    "\n",
    "Model2 = GradientBoostingClassifier()\n",
    "Model2.fit(X_train,y_train)\n",
    "y_pred = Model2.predict(X_test)\n",
    "print(classification_report(y_pred,y_test))\n",
    "print(\"GradientBoostingClassifier:>\",accuracy_score(y_pred,y_test))\n",
    "\n",
    "\n",
    "Model3 = DecisionTreeClassifier(class_weight=None, criterion='gini', max_depth=100,\n",
    " max_features=1.0, max_leaf_nodes=10,\n",
    " min_impurity_split=1e-07, min_samples_leaf=1,\n",
    " min_samples_split=2, min_weight_fraction_leaf=0.10,\n",
    " presort=False, random_state=27, splitter='best')\n",
    "Model3.fit(X_train,y_train)\n",
    "y_pred = Model3.predict(X_test)\n",
    "print(classification_report(y_pred,y_test))\n",
    "print(\"DecisionTreeClassifier:>\",accuracy_score(y_pred,y_test))\n",
    "\n",
    "\n",
    "Model4 = AdaBoostClassifier()\n",
    "Model4.fit(X_train,y_train)\n",
    "y_pred = Model4.predict(X_test)\n",
    "print(classification_report(y_pred,y_test))\n",
    "print(\"AdaBoostClassifier:>\",accuracy_score(y_pred,y_test))\n",
    "\n",
    "\n",
    "Model5 = LinearDiscriminantAnalysis()\n",
    "Model5.fit(X_train,y_train)\n",
    "y_pred = Model5.predict(X_test)\n",
    "print(classification_report(y_pred,y_test))\n",
    "print(\"LinearDiscriminantAnalysis:>\",accuracy_score(y_pred,y_test),\"\\n\")\n",
    "\n",
    "\n",
    "KNN = KNeighborsClassifier(leaf_size=1,p=2,n_neighbors=20)\n",
    "KNN.fit(X_train,y_train)\n",
    "y_pred = KNN.predict(X_test)\n",
    "print(classification_report(y_pred,y_test))\n",
    "print(\"KNeighborsClassifier:>\",accuracy_score(y_pred,y_test))\n",
    "\n",
    "\n",
    "Model7 = GaussianNB()\n",
    "Model7.fit(X_train,y_train)\n",
    "y_pred = Model7.predict(X_test)\n",
    "print(classification_report(y_pred,y_test))\n",
    "print(\"GaussianNB:>\",accuracy_score(y_pred,y_test))\n",
    "\n",
    "\n",
    "Model8 = LogisticRegression(C=1.0, class_weight=None, dual=False, fit_intercept=True,\n",
    "          intercept_scaling=1, max_iter=100, multi_class='ovr', n_jobs=1,\n",
    "          penalty='l2', random_state=None, solver='liblinear', tol=0.0001,\n",
    "          verbose=0, warm_start=False)\n",
    "Model8.fit(X_train,y_train)\n",
    "y_pred = Model8.predict(X_test)\n",
    "print(classification_report(y_pred,y_test))\n",
    "print(\"Logistic Regression:>\",accuracy_score(y_pred,y_test))"
   ]
  },
  {
   "cell_type": "code",
   "execution_count": 61,
   "metadata": {},
   "outputs": [],
   "source": [
    "feature_col=['Gender','Married','Dependents','Education','Self_Employed','ApplicantIncome','CoapplicantIncome','LoanAmount','Loan_Amount_Term','Credit_History','Property_Area']"
   ]
  },
  {
   "cell_type": "code",
   "execution_count": 68,
   "metadata": {},
   "outputs": [
    {
     "data": {
      "image/svg+xml": [
       "<?xml version=\"1.0\" encoding=\"UTF-8\" standalone=\"no\"?>\r\n",
       "<!DOCTYPE svg PUBLIC \"-//W3C//DTD SVG 1.1//EN\"\r\n",
       " \"http://www.w3.org/Graphics/SVG/1.1/DTD/svg11.dtd\">\r\n",
       "<!-- Generated by graphviz version 2.38.0 (20140413.2041)\r\n",
       " -->\r\n",
       "<!-- Title: Tree Pages: 1 -->\r\n",
       "<svg width=\"757pt\" height=\"373pt\"\r\n",
       " viewBox=\"0.00 0.00 756.50 373.00\" xmlns=\"http://www.w3.org/2000/svg\" xmlns:xlink=\"http://www.w3.org/1999/xlink\">\r\n",
       "<g id=\"graph0\" class=\"graph\" transform=\"scale(1 1) rotate(0) translate(4 369)\">\r\n",
       "<title>Tree</title>\r\n",
       "<polygon fill=\"white\" stroke=\"none\" points=\"-4,4 -4,-369 752.5,-369 752.5,4 -4,4\"/>\r\n",
       "<!-- 0 -->\r\n",
       "<g id=\"node1\" class=\"node\"><title>0</title>\r\n",
       "<polygon fill=\"none\" stroke=\"black\" points=\"402,-365 243,-365 243,-297 402,-297 402,-365\"/>\r\n",
       "<text text-anchor=\"middle\" x=\"322.5\" y=\"-349.8\" font-family=\"Times New Roman,serif\" font-size=\"14.00\">Credit_History &lt;= &#45;0.992</text>\r\n",
       "<text text-anchor=\"middle\" x=\"322.5\" y=\"-334.8\" font-family=\"Times New Roman,serif\" font-size=\"14.00\">gini = 0.429</text>\r\n",
       "<text text-anchor=\"middle\" x=\"322.5\" y=\"-319.8\" font-family=\"Times New Roman,serif\" font-size=\"14.00\">samples = 433</text>\r\n",
       "<text text-anchor=\"middle\" x=\"322.5\" y=\"-304.8\" font-family=\"Times New Roman,serif\" font-size=\"14.00\">value = [135, 298]</text>\r\n",
       "</g>\r\n",
       "<!-- 1 -->\r\n",
       "<g id=\"node2\" class=\"node\"><title>1</title>\r\n",
       "<polygon fill=\"none\" stroke=\"black\" points=\"314,-261 169,-261 169,-193 314,-193 314,-261\"/>\r\n",
       "<text text-anchor=\"middle\" x=\"241.5\" y=\"-245.8\" font-family=\"Times New Roman,serif\" font-size=\"14.00\">LoanAmount &lt;= 4.867</text>\r\n",
       "<text text-anchor=\"middle\" x=\"241.5\" y=\"-230.8\" font-family=\"Times New Roman,serif\" font-size=\"14.00\">gini = 0.195</text>\r\n",
       "<text text-anchor=\"middle\" x=\"241.5\" y=\"-215.8\" font-family=\"Times New Roman,serif\" font-size=\"14.00\">samples = 64</text>\r\n",
       "<text text-anchor=\"middle\" x=\"241.5\" y=\"-200.8\" font-family=\"Times New Roman,serif\" font-size=\"14.00\">value = [57, 7]</text>\r\n",
       "</g>\r\n",
       "<!-- 0&#45;&gt;1 -->\r\n",
       "<g id=\"edge1\" class=\"edge\"><title>0&#45;&gt;1</title>\r\n",
       "<path fill=\"none\" stroke=\"black\" d=\"M296.202,-296.884C289.199,-288.065 281.547,-278.43 274.245,-269.235\"/>\r\n",
       "<polygon fill=\"black\" stroke=\"black\" points=\"276.903,-266.954 267.944,-261.299 271.422,-271.307 276.903,-266.954\"/>\r\n",
       "<text text-anchor=\"middle\" x=\"265.093\" y=\"-282.436\" font-family=\"Times New Roman,serif\" font-size=\"14.00\">True</text>\r\n",
       "</g>\r\n",
       "<!-- 6 -->\r\n",
       "<g id=\"node7\" class=\"node\"><title>6</title>\r\n",
       "<polygon fill=\"none\" stroke=\"black\" points=\"477,-261 332,-261 332,-193 477,-193 477,-261\"/>\r\n",
       "<text text-anchor=\"middle\" x=\"404.5\" y=\"-245.8\" font-family=\"Times New Roman,serif\" font-size=\"14.00\">LoanAmount &lt;= 0.015</text>\r\n",
       "<text text-anchor=\"middle\" x=\"404.5\" y=\"-230.8\" font-family=\"Times New Roman,serif\" font-size=\"14.00\">gini = 0.333</text>\r\n",
       "<text text-anchor=\"middle\" x=\"404.5\" y=\"-215.8\" font-family=\"Times New Roman,serif\" font-size=\"14.00\">samples = 369</text>\r\n",
       "<text text-anchor=\"middle\" x=\"404.5\" y=\"-200.8\" font-family=\"Times New Roman,serif\" font-size=\"14.00\">value = [78, 291]</text>\r\n",
       "</g>\r\n",
       "<!-- 0&#45;&gt;6 -->\r\n",
       "<g id=\"edge6\" class=\"edge\"><title>0&#45;&gt;6</title>\r\n",
       "<path fill=\"none\" stroke=\"black\" d=\"M349.123,-296.884C356.212,-288.065 363.958,-278.43 371.35,-269.235\"/>\r\n",
       "<polygon fill=\"black\" stroke=\"black\" points=\"374.192,-271.286 377.73,-261.299 368.736,-266.9 374.192,-271.286\"/>\r\n",
       "<text text-anchor=\"middle\" x=\"380.431\" y=\"-282.453\" font-family=\"Times New Roman,serif\" font-size=\"14.00\">False</text>\r\n",
       "</g>\r\n",
       "<!-- 2 -->\r\n",
       "<g id=\"node3\" class=\"node\"><title>2</title>\r\n",
       "<polygon fill=\"none\" stroke=\"black\" points=\"181,-157 0,-157 0,-89 181,-89 181,-157\"/>\r\n",
       "<text text-anchor=\"middle\" x=\"90.5\" y=\"-141.8\" font-family=\"Times New Roman,serif\" font-size=\"14.00\">CoapplicantIncome &lt;= 2.112</text>\r\n",
       "<text text-anchor=\"middle\" x=\"90.5\" y=\"-126.8\" font-family=\"Times New Roman,serif\" font-size=\"14.00\">gini = 0.172</text>\r\n",
       "<text text-anchor=\"middle\" x=\"90.5\" y=\"-111.8\" font-family=\"Times New Roman,serif\" font-size=\"14.00\">samples = 63</text>\r\n",
       "<text text-anchor=\"middle\" x=\"90.5\" y=\"-96.8\" font-family=\"Times New Roman,serif\" font-size=\"14.00\">value = [57, 6]</text>\r\n",
       "</g>\r\n",
       "<!-- 1&#45;&gt;2 -->\r\n",
       "<g id=\"edge2\" class=\"edge\"><title>1&#45;&gt;2</title>\r\n",
       "<path fill=\"none\" stroke=\"black\" d=\"M192.475,-192.884C178.293,-183.304 162.685,-172.761 148.035,-162.864\"/>\r\n",
       "<polygon fill=\"black\" stroke=\"black\" points=\"149.783,-159.822 139.538,-157.125 145.865,-165.623 149.783,-159.822\"/>\r\n",
       "</g>\r\n",
       "<!-- 5 -->\r\n",
       "<g id=\"node6\" class=\"node\"><title>5</title>\r\n",
       "<polygon fill=\"none\" stroke=\"black\" points=\"290,-149.5 199,-149.5 199,-96.5 290,-96.5 290,-149.5\"/>\r\n",
       "<text text-anchor=\"middle\" x=\"244.5\" y=\"-134.3\" font-family=\"Times New Roman,serif\" font-size=\"14.00\">gini = 0.0</text>\r\n",
       "<text text-anchor=\"middle\" x=\"244.5\" y=\"-119.3\" font-family=\"Times New Roman,serif\" font-size=\"14.00\">samples = 1</text>\r\n",
       "<text text-anchor=\"middle\" x=\"244.5\" y=\"-104.3\" font-family=\"Times New Roman,serif\" font-size=\"14.00\">value = [0, 1]</text>\r\n",
       "</g>\r\n",
       "<!-- 1&#45;&gt;5 -->\r\n",
       "<g id=\"edge5\" class=\"edge\"><title>1&#45;&gt;5</title>\r\n",
       "<path fill=\"none\" stroke=\"black\" d=\"M242.474,-192.884C242.788,-182.216 243.137,-170.352 243.455,-159.519\"/>\r\n",
       "<polygon fill=\"black\" stroke=\"black\" points=\"246.954,-159.619 243.749,-149.52 239.957,-159.413 246.954,-159.619\"/>\r\n",
       "</g>\r\n",
       "<!-- 3 -->\r\n",
       "<g id=\"node4\" class=\"node\"><title>3</title>\r\n",
       "<polygon fill=\"none\" stroke=\"black\" points=\"120.5,-53 22.5,-53 22.5,-0 120.5,-0 120.5,-53\"/>\r\n",
       "<text text-anchor=\"middle\" x=\"71.5\" y=\"-37.8\" font-family=\"Times New Roman,serif\" font-size=\"14.00\">gini = 0.15</text>\r\n",
       "<text text-anchor=\"middle\" x=\"71.5\" y=\"-22.8\" font-family=\"Times New Roman,serif\" font-size=\"14.00\">samples = 61</text>\r\n",
       "<text text-anchor=\"middle\" x=\"71.5\" y=\"-7.8\" font-family=\"Times New Roman,serif\" font-size=\"14.00\">value = [56, 5]</text>\r\n",
       "</g>\r\n",
       "<!-- 2&#45;&gt;3 -->\r\n",
       "<g id=\"edge3\" class=\"edge\"><title>2&#45;&gt;3</title>\r\n",
       "<path fill=\"none\" stroke=\"black\" d=\"M83.8547,-88.9485C82.181,-80.6238 80.3769,-71.6509 78.6783,-63.2027\"/>\r\n",
       "<polygon fill=\"black\" stroke=\"black\" points=\"82.0771,-62.3506 76.6746,-53.2367 75.2145,-63.7304 82.0771,-62.3506\"/>\r\n",
       "</g>\r\n",
       "<!-- 4 -->\r\n",
       "<g id=\"node5\" class=\"node\"><title>4</title>\r\n",
       "<polygon fill=\"none\" stroke=\"black\" points=\"230,-53 139,-53 139,-0 230,-0 230,-53\"/>\r\n",
       "<text text-anchor=\"middle\" x=\"184.5\" y=\"-37.8\" font-family=\"Times New Roman,serif\" font-size=\"14.00\">gini = 0.5</text>\r\n",
       "<text text-anchor=\"middle\" x=\"184.5\" y=\"-22.8\" font-family=\"Times New Roman,serif\" font-size=\"14.00\">samples = 2</text>\r\n",
       "<text text-anchor=\"middle\" x=\"184.5\" y=\"-7.8\" font-family=\"Times New Roman,serif\" font-size=\"14.00\">value = [1, 1]</text>\r\n",
       "</g>\r\n",
       "<!-- 2&#45;&gt;4 -->\r\n",
       "<g id=\"edge4\" class=\"edge\"><title>2&#45;&gt;4</title>\r\n",
       "<path fill=\"none\" stroke=\"black\" d=\"M123.377,-88.9485C132.567,-79.709 142.552,-69.671 151.736,-60.4381\"/>\r\n",
       "<polygon fill=\"black\" stroke=\"black\" points=\"154.329,-62.7948 158.899,-53.2367 149.366,-57.8582 154.329,-62.7948\"/>\r\n",
       "</g>\r\n",
       "<!-- 7 -->\r\n",
       "<g id=\"node8\" class=\"node\"><title>7</title>\r\n",
       "<polygon fill=\"none\" stroke=\"black\" points=\"493,-157 312,-157 312,-89 493,-89 493,-157\"/>\r\n",
       "<text text-anchor=\"middle\" x=\"402.5\" y=\"-141.8\" font-family=\"Times New Roman,serif\" font-size=\"14.00\">CoapplicantIncome &lt;= 1.349</text>\r\n",
       "<text text-anchor=\"middle\" x=\"402.5\" y=\"-126.8\" font-family=\"Times New Roman,serif\" font-size=\"14.00\">gini = 0.277</text>\r\n",
       "<text text-anchor=\"middle\" x=\"402.5\" y=\"-111.8\" font-family=\"Times New Roman,serif\" font-size=\"14.00\">samples = 235</text>\r\n",
       "<text text-anchor=\"middle\" x=\"402.5\" y=\"-96.8\" font-family=\"Times New Roman,serif\" font-size=\"14.00\">value = [39, 196]</text>\r\n",
       "</g>\r\n",
       "<!-- 6&#45;&gt;7 -->\r\n",
       "<g id=\"edge7\" class=\"edge\"><title>6&#45;&gt;7</title>\r\n",
       "<path fill=\"none\" stroke=\"black\" d=\"M403.851,-192.884C403.692,-184.778 403.519,-175.982 403.352,-167.472\"/>\r\n",
       "<polygon fill=\"black\" stroke=\"black\" points=\"406.848,-167.229 403.153,-157.299 399.85,-167.366 406.848,-167.229\"/>\r\n",
       "</g>\r\n",
       "<!-- 10 -->\r\n",
       "<g id=\"node11\" class=\"node\"><title>10</title>\r\n",
       "<polygon fill=\"none\" stroke=\"black\" points=\"683.5,-157 511.5,-157 511.5,-89 683.5,-89 683.5,-157\"/>\r\n",
       "<text text-anchor=\"middle\" x=\"597.5\" y=\"-141.8\" font-family=\"Times New Roman,serif\" font-size=\"14.00\">ApplicantIncome &lt;= &#45;0.558</text>\r\n",
       "<text text-anchor=\"middle\" x=\"597.5\" y=\"-126.8\" font-family=\"Times New Roman,serif\" font-size=\"14.00\">gini = 0.413</text>\r\n",
       "<text text-anchor=\"middle\" x=\"597.5\" y=\"-111.8\" font-family=\"Times New Roman,serif\" font-size=\"14.00\">samples = 134</text>\r\n",
       "<text text-anchor=\"middle\" x=\"597.5\" y=\"-96.8\" font-family=\"Times New Roman,serif\" font-size=\"14.00\">value = [39, 95]</text>\r\n",
       "</g>\r\n",
       "<!-- 6&#45;&gt;10 -->\r\n",
       "<g id=\"edge10\" class=\"edge\"><title>6&#45;&gt;10</title>\r\n",
       "<path fill=\"none\" stroke=\"black\" d=\"M467.162,-192.884C485.88,-182.991 506.544,-172.07 525.796,-161.895\"/>\r\n",
       "<polygon fill=\"black\" stroke=\"black\" points=\"527.617,-164.892 534.823,-157.125 524.346,-158.703 527.617,-164.892\"/>\r\n",
       "</g>\r\n",
       "<!-- 8 -->\r\n",
       "<g id=\"node9\" class=\"node\"><title>8</title>\r\n",
       "<polygon fill=\"none\" stroke=\"black\" points=\"392,-53 281,-53 281,-0 392,-0 392,-53\"/>\r\n",
       "<text text-anchor=\"middle\" x=\"336.5\" y=\"-37.8\" font-family=\"Times New Roman,serif\" font-size=\"14.00\">gini = 0.263</text>\r\n",
       "<text text-anchor=\"middle\" x=\"336.5\" y=\"-22.8\" font-family=\"Times New Roman,serif\" font-size=\"14.00\">samples = 231</text>\r\n",
       "<text text-anchor=\"middle\" x=\"336.5\" y=\"-7.8\" font-family=\"Times New Roman,serif\" font-size=\"14.00\">value = [36, 195]</text>\r\n",
       "</g>\r\n",
       "<!-- 7&#45;&gt;8 -->\r\n",
       "<g id=\"edge8\" class=\"edge\"><title>7&#45;&gt;8</title>\r\n",
       "<path fill=\"none\" stroke=\"black\" d=\"M379.416,-88.9485C373.219,-80.0749 366.507,-70.4648 360.273,-61.5388\"/>\r\n",
       "<polygon fill=\"black\" stroke=\"black\" points=\"363.07,-59.4311 354.475,-53.2367 357.331,-63.4392 363.07,-59.4311\"/>\r\n",
       "</g>\r\n",
       "<!-- 9 -->\r\n",
       "<g id=\"node10\" class=\"node\"><title>9</title>\r\n",
       "<polygon fill=\"none\" stroke=\"black\" points=\"501,-53 410,-53 410,-0 501,-0 501,-53\"/>\r\n",
       "<text text-anchor=\"middle\" x=\"455.5\" y=\"-37.8\" font-family=\"Times New Roman,serif\" font-size=\"14.00\">gini = 0.375</text>\r\n",
       "<text text-anchor=\"middle\" x=\"455.5\" y=\"-22.8\" font-family=\"Times New Roman,serif\" font-size=\"14.00\">samples = 4</text>\r\n",
       "<text text-anchor=\"middle\" x=\"455.5\" y=\"-7.8\" font-family=\"Times New Roman,serif\" font-size=\"14.00\">value = [3, 1]</text>\r\n",
       "</g>\r\n",
       "<!-- 7&#45;&gt;9 -->\r\n",
       "<g id=\"edge9\" class=\"edge\"><title>7&#45;&gt;9</title>\r\n",
       "<path fill=\"none\" stroke=\"black\" d=\"M421.037,-88.9485C425.911,-80.2579 431.181,-70.8608 436.099,-62.0917\"/>\r\n",
       "<polygon fill=\"black\" stroke=\"black\" points=\"439.227,-63.6707 441.066,-53.2367 433.121,-60.2465 439.227,-63.6707\"/>\r\n",
       "</g>\r\n",
       "<!-- 11 -->\r\n",
       "<g id=\"node12\" class=\"node\"><title>11</title>\r\n",
       "<polygon fill=\"none\" stroke=\"black\" points=\"626,-53 535,-53 535,-0 626,-0 626,-53\"/>\r\n",
       "<text text-anchor=\"middle\" x=\"580.5\" y=\"-37.8\" font-family=\"Times New Roman,serif\" font-size=\"14.00\">gini = 0.0</text>\r\n",
       "<text text-anchor=\"middle\" x=\"580.5\" y=\"-22.8\" font-family=\"Times New Roman,serif\" font-size=\"14.00\">samples = 2</text>\r\n",
       "<text text-anchor=\"middle\" x=\"580.5\" y=\"-7.8\" font-family=\"Times New Roman,serif\" font-size=\"14.00\">value = [2, 0]</text>\r\n",
       "</g>\r\n",
       "<!-- 10&#45;&gt;11 -->\r\n",
       "<g id=\"edge11\" class=\"edge\"><title>10&#45;&gt;11</title>\r\n",
       "<path fill=\"none\" stroke=\"black\" d=\"M591.554,-88.9485C590.057,-80.6238 588.442,-71.6509 586.923,-63.2027\"/>\r\n",
       "<polygon fill=\"black\" stroke=\"black\" points=\"590.345,-62.459 585.13,-53.2367 583.456,-63.6984 590.345,-62.459\"/>\r\n",
       "</g>\r\n",
       "<!-- 12 -->\r\n",
       "<g id=\"node13\" class=\"node\"><title>12</title>\r\n",
       "<polygon fill=\"none\" stroke=\"black\" points=\"748.5,-53 644.5,-53 644.5,-0 748.5,-0 748.5,-53\"/>\r\n",
       "<text text-anchor=\"middle\" x=\"696.5\" y=\"-37.8\" font-family=\"Times New Roman,serif\" font-size=\"14.00\">gini = 0.403</text>\r\n",
       "<text text-anchor=\"middle\" x=\"696.5\" y=\"-22.8\" font-family=\"Times New Roman,serif\" font-size=\"14.00\">samples = 132</text>\r\n",
       "<text text-anchor=\"middle\" x=\"696.5\" y=\"-7.8\" font-family=\"Times New Roman,serif\" font-size=\"14.00\">value = [37, 95]</text>\r\n",
       "</g>\r\n",
       "<!-- 10&#45;&gt;12 -->\r\n",
       "<g id=\"edge12\" class=\"edge\"><title>10&#45;&gt;12</title>\r\n",
       "<path fill=\"none\" stroke=\"black\" d=\"M632.125,-88.9485C641.901,-79.6175 652.529,-69.4722 662.28,-60.1641\"/>\r\n",
       "<polygon fill=\"black\" stroke=\"black\" points=\"664.721,-62.6732 669.538,-53.2367 659.887,-57.6097 664.721,-62.6732\"/>\r\n",
       "</g>\r\n",
       "</g>\r\n",
       "</svg>\r\n"
      ],
      "text/plain": [
       "<graphviz.files.Source at 0x187a3c90f08>"
      ]
     },
     "execution_count": 68,
     "metadata": {},
     "output_type": "execute_result"
    }
   ],
   "source": [
    "import graphviz \n",
    "from sklearn import tree\n",
    "tree_clf = tree.DecisionTreeClassifier(max_depth = 3)\n",
    "tree_clf.fit(X_train,y_train)\n",
    "dot_data = tree.export_graphviz(tree_clf,feature_names = feature_col)\n",
    "graph = graphviz.Source(dot_data)\n",
    "graph"
   ]
  },
  {
   "cell_type": "markdown",
   "metadata": {},
   "source": [
    "# Selected Features"
   ]
  },
  {
   "cell_type": "code",
   "execution_count": 62,
   "metadata": {},
   "outputs": [
    {
     "name": "stdout",
     "output_type": "stream",
     "text": [
      "542 542\n",
      "After Standardization\n",
      "Mean  9.625578932710716e-18 Standard Deviation  1.0 \n",
      "\n",
      "              precision    recall  f1-score   support\n",
      "\n",
      "           0       0.44      0.85      0.58        20\n",
      "           1       0.97      0.81      0.88       116\n",
      "\n",
      "    accuracy                           0.82       136\n",
      "   macro avg       0.70      0.83      0.73       136\n",
      "weighted avg       0.89      0.82      0.84       136\n",
      "\n",
      "Voting Ensemble:> 0.8161764705882353\n",
      "              precision    recall  f1-score   support\n",
      "\n",
      "           0       0.31      1.00      0.47        12\n",
      "           1       1.00      0.78      0.88       124\n",
      "\n",
      "    accuracy                           0.80       136\n",
      "   macro avg       0.65      0.89      0.67       136\n",
      "weighted avg       0.94      0.80      0.84       136\n",
      "\n",
      "SVM:> 0.8014705882352942\n",
      "              precision    recall  f1-score   support\n",
      "\n",
      "           0       0.33      0.45      0.38        29\n",
      "           1       0.84      0.76      0.79       107\n",
      "\n",
      "    accuracy                           0.69       136\n",
      "   macro avg       0.58      0.60      0.59       136\n",
      "weighted avg       0.73      0.69      0.71       136\n",
      "\n",
      "XGBoost:> 0.6911764705882353\n",
      "              precision    recall  f1-score   support\n",
      "\n",
      "           0       0.36      0.78      0.49        18\n",
      "           1       0.96      0.79      0.87       118\n",
      "\n",
      "    accuracy                           0.79       136\n",
      "   macro avg       0.66      0.78      0.68       136\n",
      "weighted avg       0.88      0.79      0.82       136\n",
      "\n",
      "RandomForestClassifier:> 0.7867647058823529\n",
      "              precision    recall  f1-score   support\n",
      "\n",
      "           0       0.46      0.72      0.56        25\n",
      "           1       0.93      0.81      0.87       111\n",
      "\n",
      "    accuracy                           0.79       136\n",
      "   macro avg       0.69      0.77      0.71       136\n",
      "weighted avg       0.84      0.79      0.81       136\n",
      "\n",
      "GradientBoostingClassifier:> 0.7941176470588235\n",
      "              precision    recall  f1-score   support\n",
      "\n",
      "           0       0.31      1.00      0.47        12\n",
      "           1       1.00      0.78      0.88       124\n",
      "\n",
      "    accuracy                           0.80       136\n",
      "   macro avg       0.65      0.89      0.67       136\n",
      "weighted avg       0.94      0.80      0.84       136\n",
      "\n",
      "DecisionTreeClassifier:> 0.8014705882352942\n",
      "              precision    recall  f1-score   support\n",
      "\n",
      "           0       0.41      0.73      0.52        22\n",
      "           1       0.94      0.80      0.86       114\n",
      "\n",
      "    accuracy                           0.79       136\n",
      "   macro avg       0.67      0.76      0.69       136\n",
      "weighted avg       0.85      0.79      0.81       136\n",
      "\n",
      "AdaBoostClassifier:> 0.7867647058823529\n",
      "              precision    recall  f1-score   support\n",
      "\n",
      "           0       0.31      1.00      0.47        12\n",
      "           1       1.00      0.78      0.88       124\n",
      "\n",
      "    accuracy                           0.80       136\n",
      "   macro avg       0.65      0.89      0.67       136\n",
      "weighted avg       0.94      0.80      0.84       136\n",
      "\n",
      "LinearDiscriminantAnalysis:> 0.8014705882352942\n",
      "              precision    recall  f1-score   support\n",
      "\n",
      "           0       0.31      1.00      0.47        12\n",
      "           1       1.00      0.78      0.88       124\n",
      "\n",
      "    accuracy                           0.80       136\n",
      "   macro avg       0.65      0.89      0.67       136\n",
      "weighted avg       0.94      0.80      0.84       136\n",
      "\n",
      "KNeighborsClassifier:> 0.8014705882352942\n",
      "              precision    recall  f1-score   support\n",
      "\n",
      "           0       0.38      0.79      0.52        19\n",
      "           1       0.96      0.79      0.87       117\n",
      "\n",
      "    accuracy                           0.79       136\n",
      "   macro avg       0.67      0.79      0.69       136\n",
      "weighted avg       0.88      0.79      0.82       136\n",
      "\n",
      "GaussianNB:> 0.7941176470588235\n",
      "              precision    recall  f1-score   support\n",
      "\n",
      "           0       0.31      1.00      0.47        12\n",
      "           1       1.00      0.78      0.88       124\n",
      "\n",
      "    accuracy                           0.80       136\n",
      "   macro avg       0.65      0.89      0.67       136\n",
      "weighted avg       0.94      0.80      0.84       136\n",
      "\n",
      "Logistic Regression:> 0.8014705882352942\n"
     ]
    }
   ],
   "source": [
    "X = df_train.drop([\"Loan_ID\",\"Gender\",\"Married\",\"Education\",\"Self_Employed\",\"Loan_Amount_Term\",\"Loan_Status\",\"Property_Area\"],axis=1)\n",
    "\n",
    "y = df_train.Loan_Status\n",
    "print(len(X),len(y))\n",
    "X_train , X_test , y_train , y_test = train_test_split(X,y,test_size=0.25,random_state=0)\n",
    "\n",
    "StSc = StandardScaler()\n",
    "X_train  = StSc.fit_transform(X_train)\n",
    "X_test  = StSc.fit_transform(X_test)\n",
    "\n",
    "print(\"After Standardization\\nMean \",np.mean(X_train),\"Standard Deviation \",np.std(X_train),\"\\n\")\n",
    "\n",
    "models = []\n",
    "models.append((\"XGB\",XGBClassifier()))\n",
    "models.append((\"RF\",RandomForestClassifier()))\n",
    "models.append((\"DT\",DecisionTreeClassifier()))\n",
    "models.append((\"ADB\",AdaBoostClassifier()))\n",
    "models.append((\"GB\",GradientBoostingClassifier()))\n",
    "\n",
    "ensemble = VotingClassifier(estimators=models)\n",
    "ensemble.fit(X_train,y_train)\n",
    "y_pred = ensemble.predict(X_test) \n",
    "print(classification_report(y_pred,y_test))\n",
    "print(\"Voting Ensemble:>\",accuracy_score(y_pred,y_test))\n",
    "\n",
    "\n",
    "\n",
    "SVM = SVC(kernel=\"linear\",class_weight=\"balanced\",probability=True)\n",
    "SVM.fit(X_train,y_train)\n",
    "y_pred = SVM.predict(X_test)\n",
    "print(classification_report(y_pred,y_test))\n",
    "print(\"SVM:>\",accuracy_score(y_pred,y_test))\n",
    "\n",
    "\n",
    "XGBC = XGBClassifier(learning_rate =0.1,n_estimators=10000,max_depth=4,min_child_weight=6,gamma=0,subsample=0.6,colsample_bytree=0.8,\n",
    " reg_alpha=0.005, objective= 'binary:logistic', nthread=2, scale_pos_weight=1, seed=27)\n",
    "XGBC.fit(X_train,y_train)\n",
    "y_pred = XGBC.predict(X_test)\n",
    "print(classification_report(y_pred,y_test))\n",
    "print(\"XGBoost:>\",accuracy_score(y_pred,y_test))\n",
    "\n",
    "Model1 = RandomForestClassifier(n_estimators=1000,random_state=0,n_jobs=1000,max_depth=70,bootstrap=True)\n",
    "Model1.fit(X_train,y_train)\n",
    "y_pred = Model1.predict(X_test)\n",
    "print(classification_report(y_pred,y_test))\n",
    "print(\"RandomForestClassifier:>\",accuracy_score(y_pred,y_test))\n",
    "\n",
    "\n",
    "Model2 = GradientBoostingClassifier(random_state=0)\n",
    "Model2.fit(X_train,y_train)\n",
    "y_pred = Model2.predict(X_test)\n",
    "print(classification_report(y_pred,y_test))\n",
    "print(\"GradientBoostingClassifier:>\",accuracy_score(y_pred,y_test))\n",
    "\n",
    "\n",
    "Model3 = DecisionTreeClassifier(class_weight=None, criterion='gini', max_depth=100,\n",
    " max_features=1.0, max_leaf_nodes=10,\n",
    " min_impurity_split=1e-07, min_samples_leaf=1,\n",
    " min_samples_split=2, min_weight_fraction_leaf=0.10,\n",
    " presort=False, random_state=27, splitter='best')\n",
    "Model3.fit(X_train,y_train)\n",
    "y_pred = Model3.predict(X_test)\n",
    "print(classification_report(y_pred,y_test))\n",
    "print(\"DecisionTreeClassifier:>\",accuracy_score(y_pred,y_test))\n",
    "\n",
    "\n",
    "Model4 = AdaBoostClassifier()\n",
    "Model4.fit(X_train,y_train)\n",
    "y_pred = Model4.predict(X_test)\n",
    "print(classification_report(y_pred,y_test))\n",
    "print(\"AdaBoostClassifier:>\",accuracy_score(y_pred,y_test))\n",
    "\n",
    "\n",
    "Model5 = LinearDiscriminantAnalysis()\n",
    "Model5.fit(X_train,y_train)\n",
    "y_pred = Model5.predict(X_test)\n",
    "print(classification_report(y_pred,y_test))\n",
    "print(\"LinearDiscriminantAnalysis:>\",accuracy_score(y_pred,y_test))\n",
    "\n",
    "KNN = KNeighborsClassifier(leaf_size=1,p=2,n_neighbors=20)\n",
    "KNN.fit(X_train,y_train)\n",
    "y_pred = KNN.predict(X_test)\n",
    "print(classification_report(y_pred,y_test))\n",
    "print(\"KNeighborsClassifier:>\",accuracy_score(y_pred,y_test))\n",
    "\n",
    "\n",
    "Model7 = GaussianNB()\n",
    "Model7.fit(X_train,y_train)\n",
    "y_pred = Model7.predict(X_test)\n",
    "print(classification_report(y_pred,y_test))\n",
    "print(\"GaussianNB:>\",accuracy_score(y_pred,y_test))\n",
    "\n",
    "\n",
    "Model8 = LogisticRegression(C=1.0, class_weight=None, dual=False, fit_intercept=True,\n",
    "          intercept_scaling=1, max_iter=100, multi_class='ovr', n_jobs=1,\n",
    "          penalty='l2', random_state=None, solver='liblinear', tol=0.0001,\n",
    "          verbose=0, warm_start=False)\n",
    "Model8.fit(X_train,y_train)\n",
    "y_pred = Model8.predict(X_test)\n",
    "print(classification_report(y_pred,y_test))\n",
    "print(\"Logistic Regression:>\",accuracy_score(y_pred,y_test))"
   ]
  },
  {
   "cell_type": "markdown",
   "metadata": {},
   "source": [
    "# Data Standardization / Normalization"
   ]
  },
  {
   "cell_type": "code",
   "execution_count": 66,
   "metadata": {},
   "outputs": [
    {
     "name": "stdout",
     "output_type": "stream",
     "text": [
      "Downsampled data:->\n",
      " 1    192\n",
      "0    166\n",
      "Name: Loan_Status, dtype: int64\n",
      "Upsampled data:->\n",
      " 0    422\n",
      "1    376\n",
      "Name: Loan_Status, dtype: int64\n"
     ]
    }
   ],
   "source": [
    "from sklearn.utils import resample\n",
    "new_data = df_train.copy()\n",
    "\n",
    "#Getting seperated data with 1 and 0 status.\n",
    "df_majority = new_data[new_data.Loan_Status==1]\n",
    "df_minority = new_data[new_data.Loan_Status==0]\n",
    "\n",
    "#Here we are downsampling the Majority Class Data Points. \n",
    "#i.e. We will get equal amount of datapoint as Minority class from Majority class\n",
    "\n",
    "df_manjority_downsampled = resample(df_majority,replace=False,n_samples=192,random_state=123)\n",
    "df_downsampled = pd.concat([df_manjority_downsampled,df_minority])\n",
    "print(\"Downsampled data:->\\n\",df_downsampled.Loan_Status.value_counts())\n",
    "\n",
    "#Here we are upsampling the Minority Class Data Points. \n",
    "#i.e. We will get equal amount of datapoint as Majority class from Minority class\n",
    "df_monority_upsampled = resample(df_minority,replace=True,n_samples=422,random_state=123)\n",
    "df_upsampled = pd.concat([df_majority,df_monority_upsampled])\n",
    "print(\"Upsampled data:->\\n\",df_upsampled.Loan_Status.value_counts())"
   ]
  },
  {
   "cell_type": "markdown",
   "metadata": {},
   "source": [
    "# Down Sampled"
   ]
  },
  {
   "cell_type": "code",
   "execution_count": 67,
   "metadata": {},
   "outputs": [
    {
     "name": "stdout",
     "output_type": "stream",
     "text": [
      "After Standardization\n",
      "Mean  2.8923042161198106e-17 Standard Deviation  1.0 \n",
      "\n",
      "              precision    recall  f1-score   support\n",
      "\n",
      "           0       0.68      0.55      0.61        49\n",
      "           1       0.56      0.68      0.62        41\n",
      "\n",
      "    accuracy                           0.61        90\n",
      "   macro avg       0.62      0.62      0.61        90\n",
      "weighted avg       0.62      0.61      0.61        90\n",
      "\n",
      "Voting Ensemble:> 0.6111111111111112\n",
      "              precision    recall  f1-score   support\n",
      "\n",
      "           0       0.40      1.00      0.57        16\n",
      "           1       1.00      0.68      0.81        74\n",
      "\n",
      "    accuracy                           0.73        90\n",
      "   macro avg       0.70      0.84      0.69        90\n",
      "weighted avg       0.89      0.73      0.76        90\n",
      "\n",
      "SVM:> 0.7333333333333333\n",
      "              precision    recall  f1-score   support\n",
      "\n",
      "           0       0.68      0.56      0.61        48\n",
      "           1       0.58      0.69      0.63        42\n",
      "\n",
      "    accuracy                           0.62        90\n",
      "   macro avg       0.63      0.63      0.62        90\n",
      "weighted avg       0.63      0.62      0.62        90\n",
      "\n",
      "XGBoost:> 0.6222222222222222\n",
      "              precision    recall  f1-score   support\n",
      "\n",
      "           0       0.65      0.60      0.63        43\n",
      "           1       0.66      0.70      0.68        47\n",
      "\n",
      "    accuracy                           0.66        90\n",
      "   macro avg       0.66      0.65      0.65        90\n",
      "weighted avg       0.66      0.66      0.65        90\n",
      "\n",
      "RandomForestClassifier:> 0.6555555555555556\n",
      "              precision    recall  f1-score   support\n",
      "\n",
      "           0       0.68      0.56      0.61        48\n",
      "           1       0.58      0.69      0.63        42\n",
      "\n",
      "    accuracy                           0.62        90\n",
      "   macro avg       0.63      0.63      0.62        90\n",
      "weighted avg       0.63      0.62      0.62        90\n",
      "\n",
      "GradientBoostingClassifier:> 0.6222222222222222\n",
      "              precision    recall  f1-score   support\n",
      "\n",
      "           0       0.62      0.66      0.64        38\n",
      "           1       0.74      0.71      0.73        52\n",
      "\n",
      "    accuracy                           0.69        90\n",
      "   macro avg       0.68      0.68      0.68        90\n",
      "weighted avg       0.69      0.69      0.69        90\n",
      "\n",
      "DecisionTreeClassifier:> 0.6888888888888889\n",
      "              precision    recall  f1-score   support\n",
      "\n",
      "           0       0.68      0.53      0.59        51\n",
      "           1       0.52      0.67      0.58        39\n",
      "\n",
      "    accuracy                           0.59        90\n",
      "   macro avg       0.60      0.60      0.59        90\n",
      "weighted avg       0.61      0.59      0.59        90\n",
      "\n",
      "AdaBoostClassifier:> 0.5888888888888889\n",
      "              precision    recall  f1-score   support\n",
      "\n",
      "           0       0.45      0.78      0.57        23\n",
      "           1       0.90      0.67      0.77        67\n",
      "\n",
      "    accuracy                           0.70        90\n",
      "   macro avg       0.68      0.73      0.67        90\n",
      "weighted avg       0.79      0.70      0.72        90\n",
      "\n",
      "LinearDiscriminantAnalysis:> 0.7\n",
      "              precision    recall  f1-score   support\n",
      "\n",
      "           0       0.42      0.77      0.55        22\n",
      "           1       0.90      0.66      0.76        68\n",
      "\n",
      "    accuracy                           0.69        90\n",
      "   macro avg       0.66      0.72      0.66        90\n",
      "weighted avg       0.78      0.69      0.71        90\n",
      "\n",
      "KNeighborsClassifier:> 0.6888888888888889\n",
      "              precision    recall  f1-score   support\n",
      "\n",
      "           0       0.42      0.77      0.55        22\n",
      "           1       0.90      0.66      0.76        68\n",
      "\n",
      "    accuracy                           0.69        90\n",
      "   macro avg       0.66      0.72      0.66        90\n",
      "weighted avg       0.78      0.69      0.71        90\n",
      "\n",
      "GaussianNB:> 0.6888888888888889\n",
      "              precision    recall  f1-score   support\n",
      "\n",
      "           0       0.47      0.76      0.58        25\n",
      "           1       0.88      0.68      0.77        65\n",
      "\n",
      "    accuracy                           0.70        90\n",
      "   macro avg       0.68      0.72      0.67        90\n",
      "weighted avg       0.77      0.70      0.72        90\n",
      "\n",
      "Logistic Regression:> 0.7\n"
     ]
    }
   ],
   "source": [
    "X = df_downsampled.drop([\"Loan_Status\",\"Loan_ID\"],axis=1)\n",
    "y = df_downsampled.Loan_Status\n",
    "X_train , X_test , y_train , y_test = train_test_split(X,y,test_size=0.25,random_state=0)\n",
    "\n",
    "\n",
    "#Scaling data here:------------->\n",
    "\n",
    "StSc = StandardScaler()\n",
    "X_train  = StSc.fit_transform(X_train)\n",
    "X_test  = StSc.fit_transform(X_test)\n",
    "\n",
    "#Check mean is 0 and Standard deviation is 1\n",
    "print(\"After Standardization\\nMean \",np.mean(X_train),\"Standard Deviation \",np.std(X_train),\"\\n\")\n",
    "\n",
    "#Voting ensemble mathod. Combining all tree based algorithms.\n",
    "models = []\n",
    "models.append((\"XGB\",XGBClassifier()))\n",
    "models.append((\"RF\",RandomForestClassifier()))\n",
    "models.append((\"DT\",DecisionTreeClassifier()))\n",
    "models.append((\"ADB\",AdaBoostClassifier()))\n",
    "models.append((\"GB\",GradientBoostingClassifier()))\n",
    "\n",
    "ensemble = VotingClassifier(estimators=models)\n",
    "ensemble.fit(X_train,y_train)\n",
    "y_pred = ensemble.predict(X_test) \n",
    "print(classification_report(y_pred,y_test))\n",
    "print(\"Voting Ensemble:>\",accuracy_score(y_pred,y_test))\n",
    "\n",
    "\n",
    "\n",
    "SVM = SVC(kernel=\"linear\",class_weight=\"balanced\",probability=True)\n",
    "SVM.fit(X_train,y_train)\n",
    "y_pred = SVM.predict(X_test)\n",
    "print(classification_report(y_pred,y_test))\n",
    "print(\"SVM:>\",accuracy_score(y_pred,y_test))\n",
    "\n",
    "\n",
    "XGBC = XGBClassifier(learning_rate =0.1,n_estimators=10000,max_depth=4,min_child_weight=6,gamma=0,subsample=0.6,colsample_bytree=0.8,\n",
    " reg_alpha=0.005, objective= 'binary:logistic', nthread=2, scale_pos_weight=1, seed=27)\n",
    "XGBC.fit(X_train,y_train)\n",
    "y_pred = XGBC.predict(X_test)\n",
    "print(classification_report(y_pred,y_test))\n",
    "print(\"XGBoost:>\",accuracy_score(y_pred,y_test))\n",
    "\n",
    "Model1 = RandomForestClassifier(n_estimators=1000,random_state=0,n_jobs=1000,max_depth=70,bootstrap=True)\n",
    "Model1.fit(X_train,y_train)\n",
    "y_pred = Model1.predict(X_test)\n",
    "print(classification_report(y_pred,y_test))\n",
    "print(\"RandomForestClassifier:>\",accuracy_score(y_pred,y_test))\n",
    "\n",
    "\n",
    "Model2 = GradientBoostingClassifier()\n",
    "Model2.fit(X_train,y_train)\n",
    "y_pred = Model2.predict(X_test)\n",
    "print(classification_report(y_pred,y_test))\n",
    "print(\"GradientBoostingClassifier:>\",accuracy_score(y_pred,y_test))\n",
    "\n",
    "\n",
    "Model3 = DecisionTreeClassifier(class_weight=None, criterion='gini', max_depth=100,\n",
    " max_features=1.0, max_leaf_nodes=10,\n",
    " min_impurity_split=1e-07, min_samples_leaf=1,\n",
    " min_samples_split=2, min_weight_fraction_leaf=0.10,\n",
    " presort=False, random_state=27, splitter='best')\n",
    "Model3.fit(X_train,y_train)\n",
    "y_pred = Model3.predict(X_test)\n",
    "print(classification_report(y_pred,y_test))\n",
    "print(\"DecisionTreeClassifier:>\",accuracy_score(y_pred,y_test))\n",
    "\n",
    "\n",
    "Model4 = AdaBoostClassifier()\n",
    "Model4.fit(X_train,y_train)\n",
    "y_pred = Model4.predict(X_test)\n",
    "print(classification_report(y_pred,y_test))\n",
    "print(\"AdaBoostClassifier:>\",accuracy_score(y_pred,y_test))\n",
    "\n",
    "\n",
    "Model5 = LinearDiscriminantAnalysis()\n",
    "Model5.fit(X_train,y_train)\n",
    "y_pred = Model5.predict(X_test)\n",
    "print(classification_report(y_pred,y_test))\n",
    "print(\"LinearDiscriminantAnalysis:>\",accuracy_score(y_pred,y_test))\n",
    "\n",
    "KNN = KNeighborsClassifier(leaf_size=1,p=2,n_neighbors=20)\n",
    "KNN.fit(X_train,y_train)\n",
    "y_pred = KNN.predict(X_test)\n",
    "print(classification_report(y_pred,y_test))\n",
    "print(\"KNeighborsClassifier:>\",accuracy_score(y_pred,y_test))\n",
    "\n",
    "\n",
    "Model7 = GaussianNB()\n",
    "Model7.fit(X_train,y_train)\n",
    "y_pred = Model7.predict(X_test)\n",
    "print(classification_report(y_pred,y_test))\n",
    "print(\"GaussianNB:>\",accuracy_score(y_pred,y_test))\n",
    "\n",
    "\n",
    "Model8 = LogisticRegression(C=1.0, class_weight=None, dual=False, fit_intercept=True,\n",
    "          intercept_scaling=1, max_iter=100, multi_class='ovr', n_jobs=1,\n",
    "          penalty='l2', random_state=None, solver='liblinear', tol=0.0001,\n",
    "          verbose=0, warm_start=False)\n",
    "Model8.fit(X_train,y_train)\n",
    "y_pred = Model8.predict(X_test)\n",
    "print(classification_report(y_pred,y_test))\n",
    "print(\"Logistic Regression:>\",accuracy_score(y_pred,y_test))"
   ]
  },
  {
   "cell_type": "markdown",
   "metadata": {},
   "source": [
    "# Up Sampled"
   ]
  },
  {
   "cell_type": "code",
   "execution_count": 68,
   "metadata": {},
   "outputs": [
    {
     "name": "stdout",
     "output_type": "stream",
     "text": [
      "798 798\n",
      "After Standardization\n",
      "Mean  -3.780631765217924e-18 Standard Deviation  1.0 \n",
      "\n",
      "              precision    recall  f1-score   support\n",
      "\n",
      "           0       0.68      0.83      0.75        92\n",
      "           1       0.82      0.67      0.73       108\n",
      "\n",
      "    accuracy                           0.74       200\n",
      "   macro avg       0.75      0.75      0.74       200\n",
      "weighted avg       0.75      0.74      0.74       200\n",
      "\n",
      "Voting Ensemble:> 0.74\n",
      "              precision    recall  f1-score   support\n",
      "\n",
      "           0       0.43      1.00      0.60        48\n",
      "           1       1.00      0.58      0.73       152\n",
      "\n",
      "    accuracy                           0.68       200\n",
      "   macro avg       0.71      0.79      0.67       200\n",
      "weighted avg       0.86      0.68      0.70       200\n",
      "\n",
      "SVM:> 0.68\n",
      "              precision    recall  f1-score   support\n",
      "\n",
      "           0       0.57      0.77      0.66        83\n",
      "           1       0.78      0.59      0.67       117\n",
      "\n",
      "    accuracy                           0.67       200\n",
      "   macro avg       0.68      0.68      0.66       200\n",
      "weighted avg       0.70      0.67      0.67       200\n",
      "\n",
      "XGBoost:> 0.665\n",
      "              precision    recall  f1-score   support\n",
      "\n",
      "           0       0.83      0.89      0.86       105\n",
      "           1       0.86      0.80      0.83        95\n",
      "\n",
      "    accuracy                           0.84       200\n",
      "   macro avg       0.85      0.84      0.84       200\n",
      "weighted avg       0.85      0.84      0.84       200\n",
      "\n",
      "RandomForestClassifier:> 0.845\n",
      "              precision    recall  f1-score   support\n",
      "\n",
      "           0       0.65      0.78      0.71        93\n",
      "           1       0.77      0.64      0.70       107\n",
      "\n",
      "    accuracy                           0.70       200\n",
      "   macro avg       0.71      0.71      0.70       200\n",
      "weighted avg       0.72      0.70      0.70       200\n",
      "\n",
      "GradientBoostingClassifier:> 0.705\n",
      "              precision    recall  f1-score   support\n",
      "\n",
      "           0       0.76      0.67      0.71       126\n",
      "           1       0.53      0.64      0.58        74\n",
      "\n",
      "    accuracy                           0.66       200\n",
      "   macro avg       0.65      0.65      0.65       200\n",
      "weighted avg       0.68      0.66      0.66       200\n",
      "\n",
      "DecisionTreeClassifier:> 0.66\n",
      "              precision    recall  f1-score   support\n",
      "\n",
      "           0       0.56      0.78      0.65        81\n",
      "           1       0.80      0.59      0.68       119\n",
      "\n",
      "    accuracy                           0.67       200\n",
      "   macro avg       0.68      0.68      0.66       200\n",
      "weighted avg       0.70      0.67      0.67       200\n",
      "\n",
      "AdaBoostClassifier:> 0.665\n",
      "              precision    recall  f1-score   support\n",
      "\n",
      "           0       0.53      0.83      0.64        71\n",
      "           1       0.86      0.59      0.70       129\n",
      "\n",
      "    accuracy                           0.68       200\n",
      "   macro avg       0.70      0.71      0.67       200\n",
      "weighted avg       0.74      0.68      0.68       200\n",
      "\n",
      "LinearDiscriminantAnalysis:> 0.675\n",
      "              precision    recall  f1-score   support\n",
      "\n",
      "           0       0.65      0.80      0.72        91\n",
      "           1       0.80      0.64      0.71       109\n",
      "\n",
      "    accuracy                           0.71       200\n",
      "   macro avg       0.72      0.72      0.71       200\n",
      "weighted avg       0.73      0.71      0.71       200\n",
      "\n",
      "KNeighborsClassifier:> 0.715\n",
      "              precision    recall  f1-score   support\n",
      "\n",
      "           0       0.49      0.92      0.64        60\n",
      "           1       0.94      0.59      0.73       140\n",
      "\n",
      "    accuracy                           0.69       200\n",
      "   macro avg       0.72      0.75      0.68       200\n",
      "weighted avg       0.81      0.69      0.70       200\n",
      "\n",
      "GaussianNB:> 0.69\n",
      "              precision    recall  f1-score   support\n",
      "\n",
      "           0       0.53      0.80      0.63        74\n",
      "           1       0.83      0.58      0.68       126\n",
      "\n",
      "    accuracy                           0.66       200\n",
      "   macro avg       0.68      0.69      0.66       200\n",
      "weighted avg       0.72      0.66      0.66       200\n",
      "\n",
      "Logistic Regression:> 0.66\n"
     ]
    }
   ],
   "source": [
    "X = df_upsampled.drop([\"Loan_Status\",\"Loan_ID\"],axis=1)\n",
    "y = df_upsampled.Loan_Status\n",
    "print(len(X),len(y))\n",
    "X_train , X_test , y_train , y_test = train_test_split(X,y,test_size=0.25,random_state=0)\n",
    "\n",
    "#Scaling data here:------------->\n",
    "\n",
    "StSc = StandardScaler()\n",
    "X_train  = StSc.fit_transform(X_train)\n",
    "X_test  = StSc.fit_transform(X_test)\n",
    "\n",
    "#Check mean is 0 and Standard deviation is 1\n",
    "print(\"After Standardization\\nMean \",np.mean(X_train),\"Standard Deviation \",np.std(X_train),\"\\n\")\n",
    "\n",
    "#Voting ensemble mathod. Combining all tree based algorithms.\n",
    "models = []\n",
    "models.append((\"XGB\",XGBClassifier()))\n",
    "models.append((\"RF\",RandomForestClassifier()))\n",
    "models.append((\"DT\",DecisionTreeClassifier()))\n",
    "models.append((\"ADB\",AdaBoostClassifier()))\n",
    "models.append((\"GB\",GradientBoostingClassifier()))\n",
    "\n",
    "ensemble = VotingClassifier(estimators=models)\n",
    "ensemble.fit(X_train,y_train)\n",
    "y_pred = ensemble.predict(X_test) \n",
    "print(classification_report(y_pred,y_test))\n",
    "print(\"Voting Ensemble:>\",accuracy_score(y_pred,y_test))\n",
    "\n",
    "\n",
    "\n",
    "SVM = SVC(kernel=\"linear\",class_weight=\"balanced\",probability=True)\n",
    "SVM.fit(X_train,y_train)\n",
    "y_pred = SVM.predict(X_test)\n",
    "print(classification_report(y_pred,y_test))\n",
    "print(\"SVM:>\",accuracy_score(y_pred,y_test))\n",
    "\n",
    "\n",
    "XGBC = XGBClassifier(learning_rate =0.1,n_estimators=10000,max_depth=4,min_child_weight=6,gamma=0,subsample=0.6,colsample_bytree=0.8,\n",
    " reg_alpha=0.005, objective= 'binary:logistic', nthread=2, scale_pos_weight=1, seed=27)\n",
    "XGBC.fit(X_train,y_train)\n",
    "y_pred = XGBC.predict(X_test)\n",
    "print(classification_report(y_pred,y_test))\n",
    "print(\"XGBoost:>\",accuracy_score(y_pred,y_test))\n",
    "\n",
    "Model1 = RandomForestClassifier(n_estimators=1000,random_state=0,n_jobs=1000,max_depth=70,bootstrap=True)\n",
    "Model1.fit(X_train,y_train)\n",
    "y_pred = Model1.predict(X_test)\n",
    "print(classification_report(y_pred,y_test))\n",
    "print(\"RandomForestClassifier:>\",accuracy_score(y_pred,y_test))\n",
    "\n",
    "\n",
    "Model2 = GradientBoostingClassifier()\n",
    "Model2.fit(X_train,y_train)\n",
    "y_pred = Model2.predict(X_test)\n",
    "print(classification_report(y_pred,y_test))\n",
    "print(\"GradientBoostingClassifier:>\",accuracy_score(y_pred,y_test))\n",
    "\n",
    "\n",
    "Model3 = DecisionTreeClassifier(class_weight=None, criterion='gini', max_depth=100,\n",
    " max_features=1.0, max_leaf_nodes=10,\n",
    " min_impurity_split=1e-07, min_samples_leaf=1,\n",
    " min_samples_split=2, min_weight_fraction_leaf=0.10,\n",
    " presort=False, random_state=27, splitter='best')\n",
    "Model3.fit(X_train,y_train)\n",
    "y_pred = Model3.predict(X_test)\n",
    "print(classification_report(y_pred,y_test))\n",
    "print(\"DecisionTreeClassifier:>\",accuracy_score(y_pred,y_test))\n",
    "\n",
    "\n",
    "Model4 = AdaBoostClassifier()\n",
    "Model4.fit(X_train,y_train)\n",
    "y_pred = Model4.predict(X_test)\n",
    "print(classification_report(y_pred,y_test))\n",
    "print(\"AdaBoostClassifier:>\",accuracy_score(y_pred,y_test))\n",
    "\n",
    "\n",
    "Model5 = LinearDiscriminantAnalysis()\n",
    "Model5.fit(X_train,y_train)\n",
    "y_pred = Model5.predict(X_test)\n",
    "print(classification_report(y_pred,y_test))\n",
    "print(\"LinearDiscriminantAnalysis:>\",accuracy_score(y_pred,y_test))\n",
    "\n",
    "KNN = KNeighborsClassifier(leaf_size=1,p=2,n_neighbors=20)\n",
    "KNN.fit(X_train,y_train)\n",
    "y_pred = KNN.predict(X_test)\n",
    "print(classification_report(y_pred,y_test))\n",
    "print(\"KNeighborsClassifier:>\",accuracy_score(y_pred,y_test))\n",
    "\n",
    "\n",
    "Model7 = GaussianNB()\n",
    "Model7.fit(X_train,y_train)\n",
    "y_pred = Model7.predict(X_test)\n",
    "print(classification_report(y_pred,y_test))\n",
    "print(\"GaussianNB:>\",accuracy_score(y_pred,y_test))\n",
    "\n",
    "\n",
    "Model8 = LogisticRegression(C=1.0, class_weight=None, dual=False, fit_intercept=True,\n",
    "          intercept_scaling=1, max_iter=100, multi_class='ovr', n_jobs=1,\n",
    "          penalty='l2', random_state=None, solver='liblinear', tol=0.0001,\n",
    "          verbose=0, warm_start=False)\n",
    "Model8.fit(X_train,y_train)\n",
    "y_pred = Model8.predict(X_test)\n",
    "print(classification_report(y_pred,y_test))\n",
    "print(\"Logistic Regression:>\",accuracy_score(y_pred,y_test))"
   ]
  },
  {
   "cell_type": "markdown",
   "metadata": {},
   "source": [
    "# MLP"
   ]
  },
  {
   "cell_type": "code",
   "execution_count": 69,
   "metadata": {},
   "outputs": [],
   "source": [
    "from sklearn.neural_network import MLPClassifier \n",
    "mlp = MLPClassifier(hidden_layer_sizes=(10, 10, 10), max_iter=1000)  \n",
    "mlp.fit(X_train, y_train)\n",
    "predictions = mlp.predict(X_test)"
   ]
  },
  {
   "cell_type": "code",
   "execution_count": 70,
   "metadata": {},
   "outputs": [
    {
     "name": "stdout",
     "output_type": "stream",
     "text": [
      "[0 0 1 0 0 1 0 0 0 0 1 0 1 1 1 1 1 0 0 0 1 1 1 1 1 0 0 1 0 0 0 1 0 1 0 0 0\n",
      " 0 1 0 1 1 1 1 0 0 0 0 0 0 0 0 0 1 1 1 1 0 0 0 1 1 0 1 0 0 1 0 1 1 0 1 0 1\n",
      " 1 0 1 0 1 0 0 0 0 1 0 0 1 1 0 1 1 0 0 1 0 0 0 1 1 0 0 1 1 1 1 0 1 0 1 0 1\n",
      " 1 0 1 0 0 1 1 1 0 0 1 0 1 1 1 1 1 1 1 0 1 0 0 1 1 1 0 0 1 1 0 1 0 0 0 0 1\n",
      " 0 0 1 1 0 0 1 1 0 1 1 1 1 0 0 1 1 1 0 1 0 1 1 1 0 1 0 0 0 0 1 1 0 0 0 0 0\n",
      " 0 0 0 0 0 1 1 0 0 0 1 1 0 0 1]\n"
     ]
    }
   ],
   "source": [
    "print(predictions)"
   ]
  },
  {
   "cell_type": "code",
   "execution_count": 71,
   "metadata": {},
   "outputs": [
    {
     "name": "stdout",
     "output_type": "stream",
     "text": [
      "              precision    recall  f1-score   support\n",
      "\n",
      "           0       0.78      0.73      0.76       112\n",
      "           1       0.68      0.74      0.71        88\n",
      "\n",
      "    accuracy                           0.73       200\n",
      "   macro avg       0.73      0.74      0.73       200\n",
      "weighted avg       0.74      0.73      0.74       200\n",
      "\n"
     ]
    }
   ],
   "source": [
    "print(classification_report(y_test,predictions))"
   ]
  },
  {
   "cell_type": "markdown",
   "metadata": {},
   "source": [
    "# Extra Tree Classifiers"
   ]
  },
  {
   "cell_type": "code",
   "execution_count": 72,
   "metadata": {},
   "outputs": [
    {
     "name": "stdout",
     "output_type": "stream",
     "text": [
      "0.8935917721518987\n"
     ]
    }
   ],
   "source": [
    "from sklearn.ensemble import ExtraTreesClassifier\n",
    "from sklearn.model_selection import KFold\n",
    "from sklearn.model_selection import cross_val_score\n",
    "seed = 7\n",
    "kfold = KFold(n_splits = 10, random_state = seed)\n",
    "num_trees = 150\n",
    "max_features = 5\n",
    "model = ExtraTreesClassifier(n_estimators = num_trees, max_features = max_features)\n",
    "results = cross_val_score(model, X, y, cv = kfold)\n",
    "print(results.mean())"
   ]
  },
  {
   "cell_type": "markdown",
   "metadata": {},
   "source": [
    "# K-Means Clustering"
   ]
  },
  {
   "cell_type": "code",
   "execution_count": 73,
   "metadata": {},
   "outputs": [
    {
     "name": "stdout",
     "output_type": "stream",
     "text": [
      "[1 0 0 0 0 1 1 0 1 0 1 0 0 1 1 1 0 1 0 1 0 0 1 1 1 0 0 1 1 0 0 0 0 1 1 1 1\n",
      " 1 0 1 1 1 1 0 1 1 0 0 0 1 1 0 1 0 1 0 0 0 0 1 0 1 0 1 0 1 0 1 1 1 1 1 1 0\n",
      " 1 1 1 0 0 0 0 0 0 1 1 1 1 0 0 0 0 1 0 1 1 0 1 1 1 0 0 0 1 0 0 0 1 0 1 0 1\n",
      " 1 0 1 0 1 0 0 1 1 0 0 1 0 1 1 1 1 1 0 0 1 1 0 1 1 1 0 1 1 1 1 1 0 1 1 0 1\n",
      " 1 1 1 1 0 0 1 0 1 1 1 1 0 1 0 1 1 1 0 1 0 1 1 1 0 1 1 0 1 1 0 1 1 1 0 1 0\n",
      " 1 0 0 0 1 1 1 1 1 1 1 1 1 1 0]\n"
     ]
    },
    {
     "data": {
      "text/plain": [
       "array([[-0.6520075 , -1.00913203, -0.53131822,  0.11058483,  0.16824767,\n",
       "         0.02683315, -0.2665154 , -0.13541276,  0.18512552, -0.01406574,\n",
       "        -0.19820154],\n",
       "       [ 0.46253524,  0.71587999,  0.37691806, -0.07844907, -0.11935519,\n",
       "        -0.01903548,  0.18906648,  0.09606205, -0.13132836,  0.00997826,\n",
       "         0.14060451]])"
      ]
     },
     "execution_count": 73,
     "metadata": {},
     "output_type": "execute_result"
    }
   ],
   "source": [
    "from sklearn.cluster import KMeans\n",
    "kmeans2 = KMeans(init='k-means++',n_clusters=2,n_init=10)\n",
    "y_kmeans2 = kmeans2.fit_predict(X_test)\n",
    "print(y_kmeans2)\n",
    "\n",
    "kmeans2.cluster_centers_"
   ]
  },
  {
   "cell_type": "code",
   "execution_count": 74,
   "metadata": {},
   "outputs": [
    {
     "name": "stdout",
     "output_type": "stream",
     "text": [
      "              precision    recall  f1-score   support\n",
      "\n",
      "           0       0.66      0.49      0.56       112\n",
      "           1       0.51      0.68      0.59        88\n",
      "\n",
      "    accuracy                           0.57       200\n",
      "   macro avg       0.59      0.59      0.57       200\n",
      "weighted avg       0.60      0.57      0.57       200\n",
      "\n"
     ]
    }
   ],
   "source": [
    "print(classification_report(y_test, y_kmeans2))"
   ]
  },
  {
   "cell_type": "code",
   "execution_count": 75,
   "metadata": {},
   "outputs": [
    {
     "data": {
      "image/png": "[encoded data removed]",
      "text/plain": [
       "<Figure size 432x288 with 1 Axes>"
      ]
     },
     "metadata": {
      "needs_background": "light"
     },
     "output_type": "display_data"
    }
   ],
   "source": [
    "Error =[]\n",
    "for i in range(1, 11):\n",
    "    kmeans = KMeans(n_clusters = i).fit(X_test)\n",
    "    kmeans.fit(X_test)\n",
    "    Error.append(kmeans.inertia_)\n",
    "import matplotlib.pyplot as plt\n",
    "plt.plot(range(1, 11), Error)\n",
    "plt.title('Elbow method')\n",
    "plt.xlabel('No of clusters')\n",
    "plt.ylabel('Error')\n",
    "plt.show()"
   ]
  },
  {
   "cell_type": "markdown",
   "metadata": {},
   "source": [
    "# Ensemble Learning"
   ]
  },
  {
   "cell_type": "code",
   "execution_count": 76,
   "metadata": {},
   "outputs": [
    {
     "name": "stdout",
     "output_type": "stream",
     "text": [
      "0.7068512658227848\n"
     ]
    }
   ],
   "source": [
    "from sklearn import model_selection\n",
    "from sklearn.ensemble import AdaBoostClassifier\n",
    "seed = 7\n",
    "num_trees = 70\n",
    "kfold = model_selection.KFold(n_splits=10, random_state=seed)\n",
    "model = AdaBoostClassifier(n_estimators=num_trees, random_state=seed)\n",
    "results = model_selection.cross_val_score(model, X, y, cv=kfold)\n",
    "print(results.mean())"
   ]
  },
  {
   "cell_type": "code",
   "execution_count": 77,
   "metadata": {},
   "outputs": [
    {
     "name": "stdout",
     "output_type": "stream",
     "text": [
      "0.8810759493670884\n"
     ]
    }
   ],
   "source": [
    "from sklearn.ensemble import BaggingClassifier\n",
    "kfold = model_selection.KFold(n_splits=10, random_state=7)\n",
    "cart = DecisionTreeClassifier()\n",
    "num_trees = 100\n",
    "model = BaggingClassifier(base_estimator=cart, n_estimators=num_trees, random_state=7)\n",
    "results = model_selection.cross_val_score(model, X, y, cv=kfold)\n",
    "print(results.mean())"
   ]
  },
  {
   "cell_type": "code",
   "execution_count": 82,
   "metadata": {},
   "outputs": [
    {
     "name": "stdout",
     "output_type": "stream",
     "text": [
      "0.5514715189873418\n"
     ]
    }
   ],
   "source": [
    "from sklearn.svm import SVC\n",
    "from sklearn.ensemble import VotingClassifier\n",
    "import warnings\n",
    "warnings.filterwarnings(\"ignore\")\n",
    "kfold = model_selection.KFold(n_splits=10, random_state=seed)\n",
    "estimators = []\n",
    "model1 = LogisticRegression()\n",
    "estimators.append(('logistic', model1))\n",
    "model2 = DecisionTreeClassifier()\n",
    "estimators.append(('cart', model2))\n",
    "model3 = SVC()\n",
    "estimators.append(('svm', model3))\n",
    "ensemble = VotingClassifier(estimators)\n",
    "results = model_selection.cross_val_score(ensemble, X, y, cv=kfold)\n",
    "print(results.mean())"
   ]
  },
  {
   "cell_type": "markdown",
   "metadata": {},
   "source": [
    "# Hierarchical clustering"
   ]
  },
  {
   "cell_type": "code",
   "execution_count": 79,
   "metadata": {},
   "outputs": [
    {
     "data": {
      "text/plain": [
       "<matplotlib.lines.Line2D at 0x1d103bec108>"
      ]
     },
     "execution_count": 79,
     "metadata": {},
     "output_type": "execute_result"
    },
    {
     "data": {
      "image/png": "[encoded data removed]",
      "text/plain": [
       "<Figure size 720x504 with 1 Axes>"
      ]
     },
     "metadata": {
      "needs_background": "light"
     },
     "output_type": "display_data"
    },
    {
     "data": {
      "image/png": "[encoded data removed]",
      "text/plain": [
       "<Figure size 720x504 with 1 Axes>"
      ]
     },
     "metadata": {
      "needs_background": "light"
     },
     "output_type": "display_data"
    }
   ],
   "source": [
    "from sklearn.preprocessing import normalize\n",
    "df_train = df_train.drop('Loan_ID', axis = 1) \n",
    "data_scaled = normalize(df_train)\n",
    "data_scaled = pd.DataFrame(data_scaled, columns=df_train.columns)\n",
    "data_scaled.head()\n",
    "import scipy.cluster.hierarchy as shc\n",
    "plt.figure(figsize=(10, 7))  \n",
    "plt.title(\"Dendrograms\")  \n",
    "dend = shc.dendrogram(shc.linkage(data_scaled, method='ward'))\n",
    "plt.figure(figsize=(10, 7))  \n",
    "plt.title(\"Dendrograms\")  \n",
    "dend = shc.dendrogram(shc.linkage(data_scaled, method='ward'))\n",
    "plt.axhline(y=6, color='r', linestyle='--')"
   ]
  },
  {
   "cell_type": "code",
   "execution_count": 80,
   "metadata": {},
   "outputs": [
    {
     "name": "stdout",
     "output_type": "stream",
     "text": [
      "[0 0 0 1 0 1 1 1 0 1 0 1 1 1 0 0 0 0 0 1 1 0 1 0 0 0 0 0 0 1 0 1 0 0 1 0 1\n",
      " 0 0 1 1 1 0 0 0 0 0 1 1 0 1 1 0 1 0 0 1 1 0 0 0 1 1 0 0 0 1 1 1 1 0 0 1 0\n",
      " 0 1 1 1 0 1 1 1 1 0 0 1 1 0 1 1 1 1 0 0 1 0 0 0 0 1 1 0 0 0 1 0 0 0 0 0 0\n",
      " 0 1 0 0 0 1 0 1 0 0 0 0 0 1 0 1 0 1 0 0 0 1 0 0 0 0 0 0 1 1 0 0 0 0 0 1 0\n",
      " 0 0 1 0 1 1 1 0 1 1 1 0 0 0 0 0 1 0 0 0 0 0 0 1 0 1 0 1 0 0 0 0 0 0 1 0 0\n",
      " 0 0 0 0 1 0 1 0 1 0 0 1 0 0 0 0 1 0 1 0 0 0 0 1 1 1 0 1 1 0 0 1 1 1 0 1 1\n",
      " 0 0 0 0 0 0 1 1 0 0 0 1 0 0 1 0 0 1 1 0 1 1 0 0 0 1 0 0 1 0 1 1 1 0 0 1 0\n",
      " 0 1 0 0 0 1 1 0 1 1 0 0 1 0 0 0 1 0 0 0 0 1 0 0 1 0 0 1 0 1 0 0 1 0 0 0 1\n",
      " 0 0 1 0 0 0 1 1 1 1 0 0 1 0 0 0 0 1 1 0 1 0 1 0 0 0 0 0 0 0 1 1 0 1 0 0 0\n",
      " 1 0 0 0 1 1 1 0 0 0 1 1 0 0 0 0 0 1 0 0 1 0 0 0 1 0 0 0 0 0 1 1 0 0 1 1 0\n",
      " 0 1 0 1 0 0 0 0 0 0 1 0 1 1 0 0 1 0 0 0 1 0 0 0 1 1 1 0 1 0 0 0 1 0 0 0 1\n",
      " 0 0 1 1 1 1 0 0 1 0 0 0 1 0 0 1 0 0 1 0 0 0 0 1 0 0 0 1 0 1 1 0 1 1 0 1 1\n",
      " 0 1 0 1 0 0 0 1 1 1 1 1 0 0 1 0 0 1 0 0 0 0 0 0 1 0 0 0 0 1 0 0 0 1 0 1 0\n",
      " 1 0 1 0 1 0 1 1 1 1 0 1 0 1 1 0 0 0 0 0 0 0 1 0 1 0 0 0 0 0 1 1 0 1 0 0 1\n",
      " 1 1 0 0 1 0 1 0 0 0 0 0 0 1 0 1 1 0 1 0 0 0 0 0]\n"
     ]
    }
   ],
   "source": [
    "from sklearn.cluster import AgglomerativeClustering\n",
    "cluster = AgglomerativeClustering(n_clusters=2, affinity='euclidean', linkage='ward')  \n",
    "hcloanpred=cluster.fit_predict(data_scaled)\n",
    "print(hcloanpred)"
   ]
  },
  {
   "cell_type": "code",
   "execution_count": 81,
   "metadata": {},
   "outputs": [
    {
     "data": {
      "text/plain": [
       "<matplotlib.collections.PathCollection at 0x1d17d4ebe88>"
      ]
     },
     "execution_count": 81,
     "metadata": {},
     "output_type": "execute_result"
    },
    {
     "data": {
      "image/png": "[encoded data removed]",
      "text/plain": [
       "<Figure size 720x504 with 1 Axes>"
      ]
     },
     "metadata": {
      "needs_background": "light"
     },
     "output_type": "display_data"
    }
   ],
   "source": [
    "plt.figure(figsize=(10, 7))  \n",
    "plt.scatter(data_scaled['LoanAmount'], data_scaled['Credit_History'], c=cluster.labels_) "
   ]
  },
  {
   "cell_type": "markdown",
   "metadata": {},
   "source": [
    "# All Features Used Algorithms Accuracies(in %)"
   ]
  },
  {
   "cell_type": "code",
   "execution_count": 101,
   "metadata": {},
   "outputs": [],
   "source": [
    "accu = {'ANN':81, 'MLP':80, 'LR':80,'K-NN':80,'SVM':81,'DecisionTree':81,'RandomForest':78,'AdaBoost':78,'GradientBoosting':78,'LinearDiscriminant':81,'NaiveBayes':81,'ExtraTree':89,'KMeans':69,'EadaBoost':76,'EDecisionTree':88,'ELogistic':79}\n",
    "key = list(accu.keys())\n",
    "values = list(accu.values())"
   ]
  },
  {
   "cell_type": "code",
   "execution_count": 102,
   "metadata": {},
   "outputs": [
    {
     "data": {
      "image/png": "[encoded data removed]",
      "text/plain": [
       "<Figure size 1800x360 with 1 Axes>"
      ]
     },
     "metadata": {
      "needs_background": "light"
     },
     "output_type": "display_data"
    }
   ],
   "source": [
    "fig = plt.figure(figsize = (25, 5))\n",
    "plt.bar(key, values, color ='maroon',  \n",
    "        width = 0.4) \n",
    "  \n",
    "plt.xlabel(\"Algorithms\") \n",
    "plt.ylabel(\"Acurracies\") \n",
    "plt.title(\"Algorithms Bar Chart\") \n",
    "plt.savefig('Algorithms.png',dpi=1000)\n",
    "plt.show() "
   ]
  },
  {
   "cell_type": "markdown",
   "metadata": {},
   "source": [
    "# Selected Features Algorithm Accuracies(in %)"
   ]
  },
  {
   "cell_type": "code",
   "execution_count": 103,
   "metadata": {},
   "outputs": [],
   "source": [
    "ac = {'LR':80,'K-NN':80,'SVM':80,'DecisionTree':80,'XGBoost':69,'RandomForest':79,'AdaBoost':79,'GradientBoosting':80,'LinearDiscriminant':80,'NaiveBayes':79,'Voting Ensemble':82}\n",
    "key1 = list(ac.keys())\n",
    "values1 = list(ac.values())"
   ]
  },
  {
   "cell_type": "code",
   "execution_count": 104,
   "metadata": {},
   "outputs": [
    {
     "data": {
      "image/png": "[encoded data removed]",
      "text/plain": [
       "<Figure size 1800x360 with 1 Axes>"
      ]
     },
     "metadata": {
      "needs_background": "light"
     },
     "output_type": "display_data"
    }
   ],
   "source": [
    "fig = plt.figure(figsize = (25, 5))\n",
    "plt.bar(key1, values1, color ='Blue',  \n",
    "        width = 0.4) \n",
    "  \n",
    "plt.xlabel(\"Algorithms\") \n",
    "plt.ylabel(\"Acurracies\") \n",
    "plt.title(\"Algorithms Bar Chart\") \n",
    "plt.savefig('Selected Algorithms.png',dpi=1000)\n",
    "plt.show() "
   ]
  },
  {
   "cell_type": "markdown",
   "metadata": {},
   "source": [
    "# Down Sampled Data Algorithms with Accuracies(in %)"
   ]
  },
  {
   "cell_type": "code",
   "execution_count": 105,
   "metadata": {},
   "outputs": [],
   "source": [
    "ac1 = {'LR':70,'K-NN':68,'SVM':73,'DecisionTree':68,'XGBoost':62,'RandomForest':65,'AdaBoost':58,'GradientBoosting':62,'LinearDiscriminant':70,'NaiveBayes':68,'Voting Ensemble':61}\n",
    "key2 = list(ac1.keys())\n",
    "values2 = list(ac1.values())"
   ]
  },
  {
   "cell_type": "code",
   "execution_count": 106,
   "metadata": {},
   "outputs": [
    {
     "data": {
      "image/png": "[encoded data removed]",
      "text/plain": [
       "<Figure size 1800x360 with 1 Axes>"
      ]
     },
     "metadata": {
      "needs_background": "light"
     },
     "output_type": "display_data"
    }
   ],
   "source": [
    "fig = plt.figure(figsize = (25, 5))\n",
    "plt.bar(key2, values2, color ='Blue',  \n",
    "        width = 0.4) \n",
    "  \n",
    "plt.xlabel(\"Algorithms\") \n",
    "plt.ylabel(\"Acurracies\") \n",
    "plt.title(\"Algorithms Bar Chart\") \n",
    "plt.savefig('Down Sampled Algorithms.png',dpi=1000)\n",
    "plt.show() "
   ]
  },
  {
   "cell_type": "markdown",
   "metadata": {},
   "source": [
    "# Up Sampled Data Algorithms with Accuracies(in %)"
   ]
  },
  {
   "cell_type": "code",
   "execution_count": 107,
   "metadata": {},
   "outputs": [],
   "source": [
    "ac2 = {'LR':66,'K-NN':71,'SVM':68,'DecisionTree':66,'XGBoost':65,'RandomForest':84,'AdaBoost':66,'GradientBoosting':70,'LinearDiscriminant':67,'NaiveBayes':69,'Voting Ensemble':74}\n",
    "key3 = list(ac2.keys())\n",
    "values3 = list(ac2.values())"
   ]
  },
  {
   "cell_type": "code",
   "execution_count": 108,
   "metadata": {},
   "outputs": [
    {
     "data": {
      "image/png": "[encoded data removed]",
      "text/plain": [
       "<Figure size 1800x360 with 1 Axes>"
      ]
     },
     "metadata": {
      "needs_background": "light"
     },
     "output_type": "display_data"
    }
   ],
   "source": [
    "fig = plt.figure(figsize = (25, 5))\n",
    "plt.bar(key3, values3, color ='Black',  \n",
    "        width = 0.4) \n",
    "  \n",
    "plt.xlabel(\"Algorithms\") \n",
    "plt.ylabel(\"Acurracies\") \n",
    "plt.title(\"Algorithms Bar Chart\") \n",
    "plt.savefig('Up Sampled Algorithms.png',dpi=1000)\n",
    "plt.show() "
   ]
  },
  {
   "cell_type": "markdown",
   "metadata": {},
   "source": [
    "# Improved Algorithms Previous vs Improved(in %)"
   ]
  },
  {
   "cell_type": "code",
   "execution_count": 109,
   "metadata": {},
   "outputs": [],
   "source": [
    "barWidth = 0.25\n",
    "bars1 = [75, 65, 26, 79, 77, 70]\n",
    "bars2 = [81, 81, 60, 81, 88, 81]"
   ]
  },
  {
   "cell_type": "code",
   "execution_count": 112,
   "metadata": {},
   "outputs": [
    {
     "data": {
      "image/png": "[encoded data removed]",
      "text/plain": [
       "<Figure size 1080x360 with 1 Axes>"
      ]
     },
     "metadata": {
      "needs_background": "light"
     },
     "output_type": "display_data"
    }
   ],
   "source": [
    "r1 = np.arange(len(bars1))\n",
    "r2 = [x + barWidth for x in r1]\n",
    "fig = plt.figure(figsize = (15, 5))\n",
    "plt.bar(r1, bars1, color='Red', width=barWidth, edgecolor='white', label='Previous')\n",
    "plt.bar(r2, bars2, color='Green', width=barWidth, edgecolor='white', label='Improved')\n",
    "\n",
    "plt.xlabel('Improved Algorithms', fontweight='bold')\n",
    "plt.xticks([r + barWidth for r in range(len(bars1))], ['Decision Tree', 'K-NN Clustering', 'K-Means', 'Naive Bayes', 'Ensemble(DecisionTree)','ANN'])\n",
    " \n",
    "plt.savefig('Improved Algorithms.png',dpi=1000)\n",
    "plt.legend()\n",
    "plt.show()"
   ]
  },
  {
   "cell_type": "markdown",
   "metadata": {},
   "source": [
    "# All Algorithms With Accuracies(in %)"
   ]
  },
  {
   "cell_type": "code",
   "execution_count": 97,
   "metadata": {},
   "outputs": [],
   "source": [
    "accuracies = {'ANN':81,'MLP':80,'ExtraTree':89,'KMeans':60,'EAdaboost':71,'EDecision':88,'ELogistic':55,'LR(All)':81,'K-NN(All)':81,'SVM(All)':81,'GradientBoosting(Selected)':80,'DecisionTree(All)':81,'XGBoost(Selected)':69,'RandomForest(Up Sampled)':84,'AdaBoost(Selected)':79,'LinearDiscriminant(All)':81,'NaiveBayes(All)':81,'Voting Ensemble(Selected)':82}\n",
    "key4 = list(accuracies.keys())\n",
    "values4 = list(accuracies.values())"
   ]
  },
  {
   "cell_type": "code",
   "execution_count": 100,
   "metadata": {},
   "outputs": [
    {
     "data": {
      "image/png": "[encoded data removed]",
      "text/plain": [
       "<Figure size 2160x360 with 1 Axes>"
      ]
     },
     "metadata": {
      "needs_background": "light"
     },
     "output_type": "display_data"
    }
   ],
   "source": [
    "fig = plt.figure(figsize = (30, 5))\n",
    "plt.bar(key4, values4, color ='Green',  \n",
    "        width = 0.4) \n",
    "  \n",
    "plt.xlabel(\"Algorithms\") \n",
    "plt.ylabel(\"Acurracies\") \n",
    "plt.title(\"Algorithms Bar Chart\") \n",
    "plt.savefig('All Algorithms.png',dpi=1000)\n",
    "plt.show() "
   ]
  },
  {
   "cell_type": "code",
   "execution_count": null,
   "metadata": {},
   "outputs": [],
   "source": []
  }
 ],
 "metadata": {
  "kernelspec": {
   "display_name": "Python 3",
   "language": "python",
   "name": "python3"
  },
  "language_info": {
   "codemirror_mode": {
    "name": "ipython",
    "version": 3
   },
   "file_extension": ".py",
   "mimetype": "text/x-python",
   "name": "python",
   "nbconvert_exporter": "python",
   "pygments_lexer": "ipython3",
   "version": "3.7.7"
  }
 },
 "nbformat": 4,
 "nbformat_minor": 4
}
